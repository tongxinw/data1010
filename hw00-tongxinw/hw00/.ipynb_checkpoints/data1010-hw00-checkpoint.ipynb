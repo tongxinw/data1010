{
 "cells": [
  {
   "cell_type": "markdown",
   "metadata": {},
   "source": [
    "# Homework 0000"
   ]
  },
  {
   "cell_type": "markdown",
   "metadata": {},
   "source": [
    "The purpose of this assignment is to give you a chance to practice generating homework documents and submitting them before the first substantive homework assignment.\n",
    "\n",
    "We are asking you to use a specific approach to completing your homework in this course. This is partly so that we can review your work in an efficient and uniform way, partly to equip you with new skills for producing documents, and partly to ensure that you don't have to waste time inventing your own system and refining your tooling. We can also help you troubleshoot much more effectively than if folks are using lots of different programs. Rest assured that this process represents a carefully considered tradeoff between quality of output and production efficiency."
   ]
  },
  {
   "cell_type": "markdown",
   "metadata": {},
   "source": [
    "**Problem 1**. Read the [page on the course website](https://data1010.github.io/hwsubmit/) with instructions for submitting homework. \n",
    "\n",
    "(a) In how many different places online will you be submitting your homework?  \n",
    "(b) Should you supress extremely long cell output that distracts from the narrative of your solutions?"
   ]
  },
  {
   "cell_type": "markdown",
   "metadata": {},
   "source": [
    "*Solution*.\n",
    "(a)2\n",
    "(b)yes"
   ]
  },
  {
   "cell_type": "markdown",
   "metadata": {},
   "source": [
    "**Problem 2**. Create a Markdown cell in Jupyter that looks pretty much like the image shown. All the features you'll need are documented in the Data Gymnasia Utilities course, except for [tables](https://github.com/adam-p/markdown-here/wiki/Markdown-Cheatsheet). "
   ]
  },
  {
   "cell_type": "markdown",
   "metadata": {},
   "source": [
    "![](images/md-1.png)\n",
    "![](images/md-2.png)"
   ]
  },
  {
   "cell_type": "markdown",
   "metadata": {},
   "source": [
    "# Large title  \n",
    "## Smaller title\n",
    "\n",
    "***\n",
    "\n",
    "**This is bold text**  \n",
    "*This is italic text*\n",
    "\n",
    "### Lists  \n",
    "\n",
    "Unordered lists:\n",
    "\n",
    "- First item\n",
    "- Second item\n",
    "    - Subitem\n",
    "        - Subsubitems\n",
    "        - Subsubitems\n",
    "- Third item  \n",
    "\n",
    "Ordered lists:\n",
    "\n",
    "1. First item\n",
    "        A.Subitem\n",
    "2. Second item\n",
    "3. Third item  \n",
    "\n",
    "Start numbering with offset:\n",
    "\n",
    "48. foo\n",
    "49. bar  \n",
    "\n",
    "### Code\n",
    "\n",
    "Code may appear inline:`identity(5)` returns `5`.\n",
    "\n",
    "Code can also appear in blocks:\n",
    "\n",
    "```python\n",
    "def identity(n):\n",
    "    return n\n",
    "```\n",
    "### Tables\n",
    "| Word     | Number of Letters|\n",
    "| ---------| ---------------- |\n",
    "| data     |4                 |\n",
    "| engine   |6                 |\n",
    "| frappe   |6                 |\n",
    "  \n",
    "### Links\n",
    "[Brown DSI GitHub page](https://browndsi.github.io/)\n"
   ]
  },
  {
   "cell_type": "markdown",
   "metadata": {},
   "source": [
    "**Problem 3**. Download Ipe to your computer and use it to create a figure that looks like the image below. You can see video demonstrating some of the basic features of Ipe [here](https://data1010.github.io/docs/videos/ipe-example.mp4). "
   ]
  },
  {
   "cell_type": "markdown",
   "metadata": {},
   "source": [
    "![](images/ipe-example.pdf){width=50%}\n",
    "![](hw00.pdf){width=50%}"
   ]
  },
  {
   "cell_type": "markdown",
   "metadata": {},
   "source": [
    "Now submit your work on GitHub classroom and on Gradescope! Instructions are on the course website."
   ]
  }
 ],
 "metadata": {
  "kernel_info": {
   "name": "julia-1.1"
  },
  "kernelspec": {
   "display_name": "Julia 1.2.0",
   "language": "julia",
   "name": "julia-1.2"
  },
  "language_info": {
   "file_extension": ".jl",
   "mimetype": "application/julia",
   "name": "julia",
   "version": "1.2.0"
  },
  "nteract": {
   "version": "0.14.5"
  }
 },
 "nbformat": 4,
 "nbformat_minor": 4
}
