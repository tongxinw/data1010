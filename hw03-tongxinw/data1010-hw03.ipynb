{
 "cells": [
  {
   "cell_type": "markdown",
   "metadata": {},
   "source": [
    "<style>\n",
    "@media print\n",
    "{\n",
    "h2 {page-break-before:always}\n",
    "}\n",
    "</style>\n",
    "\n",
    "# Homework 03\n",
    "\n",
    "### Brown University  \n",
    "### DATA 1010  \n",
    "### Fall 2019"
   ]
  },
  {
   "cell_type": "markdown",
   "metadata": {},
   "source": [
    "## Problem 1\n",
    "\n",
    "Eytan applied gradient descent to the function $f(x) = (x-3)(x-1)(x+2)(x+3)$ starting from $x_0 = -4$, and he found that his algorithm failed to converge because $x_2 = -4$, $x_4 = -4$, and so on. In other words, the iterates alternated between $-4$ and another value. What learning rate did he use?\n",
    "\n",
    "Hint: set up an equation for $\\epsilon$ and use SymPy to solve it."
   ]
  },
  {
   "cell_type": "code",
   "execution_count": 35,
   "metadata": {},
   "outputs": [],
   "source": [
    "using SymPy"
   ]
  },
  {
   "cell_type": "code",
   "execution_count": 36,
   "metadata": {},
   "outputs": [
    {
     "data": {
      "text/plain": [
       "0.05849294319646785913848585943736725208548405802872302341179598184539510480279844"
      ]
     },
     "execution_count": 36,
     "metadata": {},
     "output_type": "execute_result"
    }
   ],
   "source": [
    "@vars x\n",
    "@vars e\n",
    "f(x) = (x-3)*(x-1)*(x+2)*(x+3)\n",
    "df(x) = 4x^3 + 3x^2 - 22x - 9\n",
    "h(e) = e*df(-4) + e*df(-4-e*df(-4))\n",
    "float.(SymPy.solve(h(e),e))[4]"
   ]
  },
  {
   "cell_type": "markdown",
   "metadata": {},
   "source": [
    "There are 4 values and we choose the positive real number. "
   ]
  },
  {
   "cell_type": "markdown",
   "metadata": {},
   "source": [
    "## Problem 2\n",
    "\n",
    "Consider the following random experiment: you flip a coin, and if it turns up heads, you roll a die. If it turns up tails, then you draw a ball from an urn containing balls labeled 1 to 11.\n",
    "\n",
    "Define a sample space $\\Omega$ for this random experiment."
   ]
  },
  {
   "cell_type": "markdown",
   "metadata": {},
   "source": [
    "**Solution:**    \n",
    "$$\\{(H, 1), (H, 2), \\dots, (H, 6), (T, 1), (T, 2), \\dots, (T, 11)\\}$$"
   ]
  },
  {
   "cell_type": "markdown",
   "metadata": {},
   "source": [
    "## Problem 3\n",
    "\n",
    "Suppose that $E$, $F$, and $G$ are events. Come up with events $\\tilde{E}$, $\\tilde{F}$, \n",
    "and $\\tilde{G}$ which are pairwise disjoint and which satisfy... \n",
    "\n",
    "<center>$ E = \\tilde{E}, E\\cup F = \\tilde{E}\\cup\\tilde{F}$, and $E \\cup F \\cup G = \\tilde{E}\\cup\\tilde{F}\\cup\\tilde{G}.$ </center>"
   ]
  },
  {
   "cell_type": "markdown",
   "metadata": {},
   "source": [
    "<img src=\"IMG_0092.png\" style=\"height: 250px;\">"
   ]
  },
  {
   "cell_type": "markdown",
   "metadata": {},
   "source": [
    "Let $E = \\tilde{E} = (1,2,3,4)$,    \n",
    "$F = (3,4,5,6), \\tilde{F} = (5,6)$,     \n",
    "$G = (2,3,6,7), \\tilde{G} = (7)$"
   ]
  },
  {
   "cell_type": "markdown",
   "metadata": {},
   "source": [
    "## Problem 4\n",
    "\n",
    "Suppose that $A$ is the event that the high temperature in Providence next Tuesday is at least $65$ degrees Fahrenheit, let $B$ be the event that the high temperature in Providence next Tuesday is at least $60$ degrees Fahrenheit, and let $C$ be the event that it rains in Providence next Tuesday. Write each of the following events using the sets $A$, $B$, and $C$ and the operations $\\cap$, $\\cup$, and $ ^\\mathrm{c}$.\n",
    "\n",
    "(a) It will be less than $60$ degrees all day and rainy next Tuesday in Providence.\n",
    "\n",
    "(b) The high temperature in Providence next Tuesday will be at least $60$ degrees but not as high as $65$ degrees.\n",
    "\n",
    "(c) In Providence next Tuesday,it will either be dry or warm (where warm is defined to mean \"daily high of at least $65$ degrees\").\n",
    "\n",
    "(d) The daily high temperature in Providence next Tuesday will be higher than $65$ degrees and less than $60$ degrees."
   ]
  },
  {
   "cell_type": "markdown",
   "metadata": {},
   "source": [
    "(a) $B^\\mathrm{c} \\cap C$.    \n",
    "(b) $B \\cap A^\\mathrm{c}$.    \n",
    "(c) $C^\\mathrm{c} \\cup A$.    \n",
    "(d) $A \\cap B^\\mathrm{c} = \\phi$."
   ]
  },
  {
   "cell_type": "markdown",
   "metadata": {},
   "source": [
    "## Problem 5\n",
    "\n",
    "Write a Julia program to find the exact value of the probability that in eight flips of a fair coin, no two consecutive flips turn up heads.\n",
    "\n",
    "Two hints: (i) you can write a recursive function to generate all possible outcomes, and (ii) if you store your flip sequences as strings, you can use the function `occursin` to check for the substring `HH` ."
   ]
  },
  {
   "cell_type": "code",
   "execution_count": 43,
   "metadata": {},
   "outputs": [
    {
     "data": {
      "text/plain": [
       "0.21484375"
      ]
     },
     "execution_count": 43,
     "metadata": {},
     "output_type": "execute_result"
    }
   ],
   "source": [
    "# 0 = 'H' & 1 = 'T'\n",
    "s = []\n",
    "for f1 in 0:1\n",
    "    for f2 in 0:1\n",
    "        for f3 in 0:1\n",
    "            for f4 in 0:1\n",
    "                for f5 in 0:1\n",
    "                    for f6 in 0:1\n",
    "                        for f7 in 0:1\n",
    "                            for f8 in 0:1\n",
    "                                e = string(f1) * string(f2) * string(f3) * string(f4) * string(f5) * string(f6) * string(f7) * string(f8) \n",
    "                                push!(s,e)\n",
    "                            end\n",
    "                        end\n",
    "                    end\n",
    "                end\n",
    "            end\n",
    "        end\n",
    "    end\n",
    "end\n",
    "count = 0\n",
    "for set in s\n",
    "    if !occursin(\"00\", set)\n",
    "        count = count + 1\n",
    "    end\n",
    "end\n",
    "count/length(s)"
   ]
  },
  {
   "cell_type": "markdown",
   "metadata": {},
   "source": [
    "## Problem 6\n",
    "\n",
    "The 52 cards in a standard deck (13 spades, 13 clubs, 13 diamonds, 13 hearts), are dealt into four hands of 13 cards each. What is the probability that one of the hands all of the hearts?"
   ]
  },
  {
   "cell_type": "markdown",
   "metadata": {},
   "source": [
    "**Solution:**    \n",
    "$ 4\\cdot \\frac{13}{52} \\cdot \\frac{12}{51} \\cdot \\frac{11}{50} \\cdot \\dots \\cdot \\frac{1}{40} = 6.2990781e-12$"
   ]
  },
  {
   "cell_type": "markdown",
   "metadata": {},
   "source": [
    "## Problem 7\n",
    "\n",
    "Consider a random independent sequence of letters uniformly distributed in {a, b, . . . , z}. Use Monte Carlo simulation to estimate the expected number of letters that appear in the sequence up to the first appearance of aa.\n",
    "Repeat with ab in place of aa. Based on your findings, is the expected time to the first aa different from the expected time to the first ab?\n",
    " "
   ]
  },
  {
   "cell_type": "code",
   "execution_count": null,
   "metadata": {},
   "outputs": [],
   "source": [
    "# chr = 'a' : 'z'\n",
    "# count = []\n",
    "# time = 100\n",
    "# for i in 1:time\n",
    "#     s = \"\"\n",
    "#     while !occursin(\"aa\", s)\n",
    "#         i = rand(1:26)\n",
    "#         s = s * chr[i]\n",
    "#     end\n",
    "#     push!(count, length(s)-2)\n",
    "# end\n",
    "\n",
    "# mean(count)"
   ]
  },
  {
   "cell_type": "code",
   "execution_count": 40,
   "metadata": {},
   "outputs": [
    {
     "data": {
      "text/plain": [
       "705.11574"
      ]
     },
     "execution_count": 40,
     "metadata": {},
     "output_type": "execute_result"
    }
   ],
   "source": [
    "chr = 'a' : 'z'\n",
    "count = []\n",
    "time = 100000\n",
    "for i in 1:time\n",
    "    s = \"  \"\n",
    "    while s[length(s)-1:end] != \"aa\"\n",
    "        i = rand(1:26)\n",
    "        s = s * chr[i]\n",
    "    end\n",
    "    push!(count, length(s)-4)\n",
    "end\n",
    "\n",
    "mean(count)"
   ]
  },
  {
   "cell_type": "markdown",
   "metadata": {},
   "source": [
    "The expected number of letters that appear in the sequence up to the first appearance of aa is 705"
   ]
  },
  {
   "cell_type": "code",
   "execution_count": 41,
   "metadata": {},
   "outputs": [
    {
     "data": {
      "text/plain": [
       "671.00168"
      ]
     },
     "execution_count": 41,
     "metadata": {},
     "output_type": "execute_result"
    }
   ],
   "source": [
    "count2 = []\n",
    "time = 100000\n",
    "for i in 1:time\n",
    "    s = \"  \"\n",
    "    while s[length(s)-1:end] != \"ab\"\n",
    "        i = rand(1:26)\n",
    "        s = s * chr[i]\n",
    "    end\n",
    "    push!(count2, length(s)-4)\n",
    "end\n",
    "\n",
    "mean(count2)"
   ]
  },
  {
   "cell_type": "markdown",
   "metadata": {},
   "source": [
    "The expected number of letters that appear in the sequence up to the first appearance of aa is 671"
   ]
  },
  {
   "cell_type": "markdown",
   "metadata": {},
   "source": [
    "## Problem 8\n",
    "\n",
    "Suppose that many independent samples are drawn from the joint distribution of two random variables $X$ and $Y$, and the results are as shown in the first figure below. Sketch, by shading, your best guess of the density function of the distribution of $(X,Y)$. Also sketch a graph of the function $x\\mapsto \\mathbb{E}[Y | X = x]$.\n",
    "\n",
    "<center>\n",
    "    <div class=\"row\">\n",
    "    <img src=\"images/scatter1.svg\" style=\"height: 250px;\">\n",
    "    <img src=\"images/scatter2.svg\" style=\"height: 250px;\">\n",
    "    <img src=\"images/scatter3.svg\" style=\"height: 250px;\">\n",
    "    <img src=\"images/scatter4.svg\" style=\"height: 250px;\">\n",
    "    </div>\n",
    "</center>\n",
    "\n",
    "Repeat the exercise for each of the remaining figures."
   ]
  },
  {
   "cell_type": "markdown",
   "metadata": {},
   "source": [
    "<img src=\"IMG_0088.png\" style=\"height: 250px;\">"
   ]
  },
  {
   "cell_type": "markdown",
   "metadata": {},
   "source": [
    "<img src=\"IMG_0089.png\" style=\"height: 250px;\">"
   ]
  },
  {
   "cell_type": "markdown",
   "metadata": {},
   "source": [
    "<img src=\"IMG_0090.png\" style=\"height: 250px;\">"
   ]
  },
  {
   "cell_type": "markdown",
   "metadata": {},
   "source": [
    "<img src=\"IMG_0091.png\" style=\"height: 250px;\">"
   ]
  }
 ],
 "metadata": {
  "kernel_info": {
   "name": "julia-1.1"
  },
  "kernelspec": {
   "display_name": "Julia 1.2.0",
   "language": "julia",
   "name": "julia-1.2"
  },
  "language_info": {
   "file_extension": ".jl",
   "mimetype": "application/julia",
   "name": "julia",
   "version": "1.2.0"
  },
  "nteract": {
   "version": "0.15.0"
  }
 },
 "nbformat": 4,
 "nbformat_minor": 4
}
