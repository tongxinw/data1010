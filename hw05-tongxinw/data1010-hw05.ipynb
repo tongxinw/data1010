{
 "cells": [
  {
   "cell_type": "markdown",
   "metadata": {},
   "source": [
    "<style>\n",
    "@media print\n",
    "{\n",
    "h2 {page-break-before:always}\n",
    "}\n",
    "</style>\n",
    "\n",
    "# Homework 05\n",
    "\n",
    "### Brown University  \n",
    "### DATA 1010  \n",
    "### Fall 2019"
   ]
  },
  {
   "cell_type": "markdown",
   "metadata": {},
   "source": [
    "## Problem 1\n",
    "\n",
    "Label each of the following four estimators as either (i) biased and\n",
    "  consistent, (ii) biased and inconsistent, (iii) unbiased and\n",
    "  consistent, or (iv) unbiased and inconsistent.  The matching will be\n",
    "  one-to-one.\n",
    "\n",
    "(a) $X_1, X_2, \\ldots$ are i.i.d. Bernoulli random variables with\n",
    "    unknown $p$ and estimator \n",
    "    $$\\widehat{p} = \\frac{1}{n}\\sum^n_{i=1}X_i$$\n",
    "\n",
    "(b) $X_1, X_2, \\ldots$ are i.i.d. $\\mathcal{N}(\\mu,\\sigma^2)$, with\n",
    "    unknown $\\mu$ and $\\sigma^2$ and estimator \n",
    "    $$\\widehat{\\sigma}^2 = \\frac{\\displaystyle{\\sum^n_{i=1}(X_i-\\bar{X})^2}}{n}$$\n",
    "\n",
    "(c) $X_1, X_2, \\ldots$ are i.i.d. uniform random variables on an\n",
    "    unknown bounded interval. For $n\\geq 100$ we estimate the\n",
    "    mean using\n",
    "    $$\\widehat{\\mu} = \\frac{\\displaystyle{\\sum^{100}_{i=1}X_i}}{100}$$\n",
    "    \n",
    "(d) $X_1, X_2, \\ldots$ are i.i.d. $\\mathcal{N}(\\mu,\\sigma^2)$, with\n",
    "    unknown $\\mu$ and $\\sigma^2$. For $n\\geq 100$ we estimate the\n",
    "    standard deviation using\n",
    "    $$\\widehat{\\sigma} = \\sqrt{\\frac{\\displaystyle{\\sum^{100}_{i=1}(X_i-\\overline{X})^2}}{99}}$$"
   ]
  },
  {
   "cell_type": "markdown",
   "metadata": {},
   "source": [
    "(a)  \n",
    "\n",
    "$\\widehat{p}$ is unbiased and consistant. The law of large numbers implies that any unbiased estimator which is an average of $n$ i.i.d. random variables is consistent.   \n",
    "\n",
    "(b)  \n",
    "\n",
    "$\\widehat{\\sigma}^2$ is biased but consistant.      \n",
    "\n",
    "(c)  \n",
    "\n",
    "$\\widehat{\\mu}$ is unbiased and inconsistant.   \n",
    "\n",
    "(d)  \n",
    "\n",
    "$\\widehat{\\sigma}$ is biased and inconsistant."
   ]
  },
  {
   "cell_type": "markdown",
   "metadata": {},
   "source": [
    "## Problem 2 \n",
    "\n",
    "Suppose that $X_1, \\dots, X_n$ are independent\n",
    "  $\\mathrm{Unif}[0, \\theta]$ random variables, where $\\theta$ is an\n",
    "  unknown parameter, and consider the\n",
    "  following estimators for $\\theta$: \n",
    "  $$\\widehat{\\theta}_1 = \\max(X_1, \\dots, X_n),  \\qquad \\widehat{\\theta}_2 = 2 \\cdot \\frac{X_1 + \\cdots + X_n}{n}$$\n",
    "    \n",
    "Hint: this problem is pretty calculus intensive. SymPy is your friend."
   ]
  },
  {
   "cell_type": "markdown",
   "metadata": {},
   "source": [
    "(a) Find the CDF of $\\widehat{\\theta}_1$."
   ]
  },
  {
   "cell_type": "markdown",
   "metadata": {},
   "source": [
    "$P(\\widehat\\theta_{1})<x = P(\\max(X_1, \\dots, X_n)<x)= P(X_{1}<x, X_{2}<x, \\dots, X_{n}<x) = (\\frac{x}{\\theta})^{n}$    "
   ]
  },
  {
   "cell_type": "markdown",
   "metadata": {},
   "source": [
    "(b) Recall that if $F_{\\widehat{\\theta}_1}(x)$ and\n",
    "    $f_{\\widehat{\\theta}_1}(x)$ are the CDF and PDF of\n",
    "    $\\widehat{\\theta}_1$ respectively,\n",
    "    then $\n",
    "    \\displaystyle{\\frac{d}{dx}F_{\\widehat{\\theta}_1}(x) =\n",
    "      f_{\\widehat{\\theta}_1}(x)}$.\n",
    "    Differentiate your answer to (a) to find the PDF of $\\widehat{\\theta}_1$. "
   ]
  },
  {
   "cell_type": "markdown",
   "metadata": {},
   "source": [
    "$f_{\\widehat\\theta_{1}}(x) = \\frac{nx^{n-1}}{\\theta^{n}}$    "
   ]
  },
  {
   "cell_type": "code",
   "execution_count": 5,
   "metadata": {},
   "outputs": [
    {
     "data": {
      "text/latex": [
       "\\begin{equation*}\\frac{n \\left(\\frac{x}{θ}\\right)^{n}}{x}\\end{equation*}"
      ],
      "text/plain": [
       "     n\n",
       "  ⎛x⎞ \n",
       "n⋅⎜─⎟ \n",
       "  ⎝θ⎠ \n",
       "──────\n",
       "  x   "
      ]
     },
     "execution_count": 5,
     "metadata": {},
     "output_type": "execute_result"
    }
   ],
   "source": [
    "using SymPy\n",
    "@vars x n θ\n",
    "F_1(x) = (x/θ)^n\n",
    "f_1(x) = diff(F_1(x), x)\n",
    "f_1(x)"
   ]
  },
  {
   "cell_type": "markdown",
   "metadata": {},
   "source": [
    "(c) Show that $\\widehat{\\theta}_1$ is consistent. "
   ]
  },
  {
   "cell_type": "markdown",
   "metadata": {},
   "source": [
    "As $n\\rightarrow\\infty$, $\\widehat\\theta_{1} = \\max(X_1, \\dots, X_n) = \\theta$ as the maximum is get extremely close to $\\theta$, thus $\\widehat\\theta_{1}$ is consistant      "
   ]
  },
  {
   "cell_type": "markdown",
   "metadata": {},
   "source": [
    "(d) Find $\\mathbb{E}\\left[{\\widehat{\\theta}_1}\\right]$ and\n",
    "    $\\mathbb{E}\\left[\\widehat{\\theta}_2\\right].$ Which estimator is biased? "
   ]
  },
  {
   "cell_type": "markdown",
   "metadata": {},
   "source": [
    "$\\mathbb{E}[\\widehat\\theta_{1}] = \\frac{n\\theta}{n+1} \\ne \\theta$, thus $\\widehat\\theta_{1}$ is biased.      \n",
    "$\\mathbb{E}[\\widehat\\theta_{2}] = \\mathbb{E}(2\\frac{X_{1} + X_{2} + \\dots + X_{n}}{n}) = 2\\mathbb{E}\\frac{(X_{1} + X_{2} + \\dots + X_{n})}{n} = 2\\frac{\\theta}{2} = \\theta$, thus $\\widehat\\theta_{2}$ is unbiased."
   ]
  },
  {
   "cell_type": "code",
   "execution_count": 6,
   "metadata": {},
   "outputs": [
    {
     "data": {
      "text/latex": [
       "\\begin{equation*}\\begin{cases} - \\frac{0^{n + 1} n θ}{n + 1} + \\frac{n θ}{n + 1} & \\text{for}\\: n > -\\infty \\wedge n < \\infty \\wedge n \\neq -1 \\\\\\infty \\operatorname{sign}{\\left(n θ \\right)} & \\text{otherwise} \\end{cases}\\end{equation*}"
      ],
      "text/plain": [
       "⎧   n + 1                                         \n",
       "⎪  0     ⋅n⋅θ    n⋅θ                              \n",
       "⎪- ────────── + ─────  for n > -∞ ∧ n < ∞ ∧ n ≠ -1\n",
       "⎨    n + 1      n + 1                             \n",
       "⎪                                                 \n",
       "⎪    ∞⋅sign(n⋅θ)                otherwise         \n",
       "⎩                                                 "
      ]
     },
     "execution_count": 6,
     "metadata": {},
     "output_type": "execute_result"
    }
   ],
   "source": [
    "integrate(x*f_1(x), (x,0,θ))"
   ]
  },
  {
   "cell_type": "markdown",
   "metadata": {},
   "source": [
    "(e) Find $\\operatorname{Var}\\left({\\widehat{\\theta}_1}\\right)$ and\n",
    "    $\\operatorname{Var}\\left(\\widehat{\\theta}_2\\right).$ Which estimator has lower\n",
    "    variance? \n"
   ]
  },
  {
   "cell_type": "markdown",
   "metadata": {},
   "source": [
    "$Var(\\widehat\\theta_{1}) = \\mathbb{E}(\\widehat\\theta_{1}^2) - (\\mathbb{E}(\\widehat\\theta_{1}))^2 = \\frac{n\\theta^2}{(n+2)(n+1)^2}$ and $Var(\\widehat\\theta_{2}) = \\frac{4}{n^2}Var(X_{1} + X_{2} + \\dots + X_{n}) = \\frac{4}{n^2}(Var{(X_1)} + \\dots + Var(X_n)) = \\frac{\\theta^2}{3n}$      \n",
    "Thus, $\\widehat\\theta_{1}$ has lower variance"
   ]
  },
  {
   "cell_type": "code",
   "execution_count": 7,
   "metadata": {},
   "outputs": [
    {
     "data": {
      "text/latex": [
       "\\begin{equation*}\\frac{n θ^{2}}{n^{3} + 4 n^{2} + 5 n + 2}\\end{equation*}"
      ],
      "text/plain": [
       "           2       \n",
       "        n⋅θ        \n",
       "───────────────────\n",
       " 3      2          \n",
       "n  + 4⋅n  + 5⋅n + 2"
      ]
     },
     "execution_count": 7,
     "metadata": {},
     "output_type": "execute_result"
    }
   ],
   "source": [
    "integrate(x^2*f_1(x), (x,0,θ))\n",
    "simplify((n*θ^2/(n+2))-((n/(n+1))θ)^2)"
   ]
  },
  {
   "cell_type": "markdown",
   "metadata": {},
   "source": [
    "(f) Show that the mean squared error of $\\widehat{\\theta}_1$\n",
    "    is less than the mean squared error of $\\widehat{\\theta}_2$\n",
    "    whenever $n \\geq 3$. "
   ]
  },
  {
   "cell_type": "markdown",
   "metadata": {},
   "source": [
    "$MSE(\\widehat\\theta_{1}) = Var(\\widehat\\theta_{1}) - (Bias(\\widehat\\theta_{1}))^2 = \\frac{2\\theta^2}{(n+1)(n+2)}$      \n",
    "$MSE(\\widehat\\theta_{2}) = Var(\\widehat\\theta_{2}) - (Bias(\\widehat\\theta_{2}))^2 = \\frac{\\theta^2}{3n}$      \n",
    "$\\Delta = MSE(\\widehat\\theta_{1}) - MSE(\\widehat\\theta_{2}) = \\frac{-n(n-3)-2}{3n(n^2+3n+2)}\\theta^2$, when $n \\geq 3$, we get $\\Delta$ is alwasy negative, thus $MSE(\\widehat\\theta_{1})$ is less than $MSE(\\widehat\\theta_{2})$ whenever $n \\geq 3$."
   ]
  },
  {
   "cell_type": "code",
   "execution_count": 8,
   "metadata": {},
   "outputs": [
    {
     "data": {
      "text/latex": [
       "\\begin{equation*}\\frac{2 θ^{2}}{n^{2} + 3 n + 2}\\end{equation*}"
      ],
      "text/plain": [
       "       2    \n",
       "    2⋅θ     \n",
       "────────────\n",
       " 2          \n",
       "n  + 3⋅n + 2"
      ]
     },
     "execution_count": 8,
     "metadata": {},
     "output_type": "execute_result"
    }
   ],
   "source": [
    "simplify((n*θ^2/(n+2))-((n/(n+1))θ)^2 + θ^2/(n+1)^2)"
   ]
  },
  {
   "cell_type": "code",
   "execution_count": 9,
   "metadata": {},
   "outputs": [
    {
     "data": {
      "text/latex": [
       "\\begin{equation*}\\frac{- n^{2} + 3 n - 2}{3 n \\left(n^{2} + 3 n + 2\\right)}\\end{equation*}"
      ],
      "text/plain": [
       "     2            \n",
       "  - n  + 3⋅n - 2  \n",
       "──────────────────\n",
       "    ⎛ 2          ⎞\n",
       "3⋅n⋅⎝n  + 3⋅n + 2⎠"
      ]
     },
     "execution_count": 9,
     "metadata": {},
     "output_type": "execute_result"
    }
   ],
   "source": [
    "simplify(2/(n^2+3n+2)-1/3n)"
   ]
  },
  {
   "cell_type": "markdown",
   "metadata": {},
   "source": [
    "## Problem 3\n",
    "\n",
    "(a) **Hoeffding's inequality** says that if\n",
    "    $Y_1, Y_2, \\ldots$ are independent random variables with the\n",
    "    property that $\\mathbb{E}[Y_i] = 0$ and $a_i \\leq Y_i \\leq b_i$ for all\n",
    "    $i$, then for all $\\epsilon>0$ and $t > 0$, we have\n",
    "    $$\\mathbb{P}\\left(Y_1 + Y_2 + \\cdots + Y_n \\geq \\epsilon \\right) \\leq\n",
    "      e^{-t \\epsilon} \\prod_{i=1}^n e^{t^2(b_i-a_i)^2/8}.$$\n",
    "    \n",
    "   Use Hoeffding's inequality to show that if $X_1, X_2, X_3, \\ldots$\n",
    "    is a sequence of independent $\\operatorname{Bernoulli}(p)$ random\n",
    "    variables, then for all $\\alpha > 0$, the interval\n",
    "    $\\left(\\overline{X}_n - \\sqrt{\\frac{1}{2n}\\log(2/\\alpha)},\n",
    "      \\overline{X}_n + \\sqrt{\\frac{1}{2n}\\log(2/\\alpha)}\\right)$ is a\n",
    "    confidence interval for $p$ with confidence level $1 -\n",
    "    \\alpha$. Explain what happens to the width of this confidence\n",
    "    interval if $n$ gets large, and also what happens to the width\n",
    "    if $\\alpha$ is made very small.\n",
    "    \n",
    "(b) As above, consider $n$ independent\n",
    "    $\\operatorname{Bernoulli}(p)$'s. Find the normal-approximation\n",
    "    confidence interval for $p$\n",
    "\n",
    "(c) As above, consider $n$ independent\n",
    "    $\\operatorname{Bernoulli}(p)$'s. Find the Chebyshev confidence\n",
    "    interval for $p$. (Chebyshev's inequality says that the probability of any random variable deviating from its mean by more than $k$ standard deviations is no more than $1/k^2$.)\n",
    "\n",
    "(d) Find the numerical values of the half-widths for each of the\n",
    "    above confidence intervals when $p = \\frac{1}{2}$, $n = 1000$, and\n",
    "    $\\alpha = 0.05$ (approximating $\\overline{X}$ as $p$). "
   ]
  },
  {
   "cell_type": "markdown",
   "metadata": {},
   "source": [
    "(a)   \n",
    "Let $Y_{i} = \\frac{X_{i}-p}{n}$.   \n",
    "Since $X$ is Bernoulli random variables, then $x = 0$ or $1$, thus $a_{i} = -\\frac{p}{n}, b_{i} = \\frac{1-p}{n}$ and $b_{i} - a_{i} = \\frac{1}{n}$.   \n",
    "$P(\\bar{x} - p \\geq \\epsilon) \\leq e^{(\\frac{t^2}{8n} - t\\epsilon)}$  \n",
    "Let $t = 4n\\epsilon$ in order to minimize the right hand side, we get $P(\\bar{x} - p \\geq \\epsilon) \\leq e^{-2n\\epsilon^2}$.   \n",
    "Since $\\mathbb{E}(Y) = 0$, thus symmetric, thus $P(|\\bar{x} - p| \\geq \\epsilon) \\leq 2e^{-2n\\epsilon^2}$.   \n",
    "Let $\\epsilon = \\sqrt{\\frac{1}{2n}\\log(2/\\alpha)}$, then we get $\\alpha = 2e^{-2n\\epsilon^2}$, and $P(|\\bar{x} - p| \\geq \\sqrt{\\frac{1}{2n}\\log(2/\\alpha})) \\leq \\alpha$, which is the interval $\\left(\\overline{X}_n - \\sqrt{\\frac{1}{2n}\\log(2/\\alpha)},\\overline{X}_n + \\sqrt{\\frac{1}{2n}\\log(2/\\alpha)}\\right)$ is a confidence interval for $p$ with confidence level $1 - \\alpha$.  \n",
    "If n get large, then the confidence interval will become smaller since $\\sqrt{\\frac{1}{2n}\\log(2/\\alpha)}$ -> 0.   \n",
    "If $\\alpha$ is made very small, then the interval will become very large since the confidence level $1-\\alpha$ is high, then the interval we need is getting larger.\n"
   ]
  },
  {
   "cell_type": "markdown",
   "metadata": {},
   "source": [
    "(b)  \n",
    "The confidence interval for p is $\\bar{X} \\pm z_{1-\\alpha/2} \\sqrt{\\frac{\\bar{X}(1-\\bar{X})}{n}}$"
   ]
  },
  {
   "cell_type": "markdown",
   "metadata": {},
   "source": [
    "(c)   \n",
    "\n",
    "The confidence interval for p is $p(|\\bar{X} - p| > k\\sigma) \\leq \\frac{1}{k^2}$   \n",
    "Let $\\frac{1}{k^2} = \\alpha$, then $k = \\sqrt{\\frac{1}{\\alpha}}$,   \n",
    "the confidence interval is $\\bar{X} \\pm \\sqrt{\\frac{\\bar{X}(1-\\bar{X})}{\\alpha n}}$"
   ]
  },
  {
   "cell_type": "code",
   "execution_count": 46,
   "metadata": {},
   "outputs": [
    {
     "name": "stdout",
     "output_type": "stream",
     "text": [
      "0.04294694083467376\n",
      "0.030990321069650113\n",
      "0.07071067811865475\n"
     ]
    }
   ],
   "source": [
    "# (d)\n",
    "p, n, α = 1/2, 1000, 0.05\n",
    "# Hoeffding's inequality\n",
    "println(sqrt(1/2n * log(2/α)))\n",
    "# normal-approximation\n",
    "println(1.96*sqrt(1/(4n)))\n",
    "# Chebyshev confidence\n",
    "println(sqrt(1/(4*n*α)))"
   ]
  },
  {
   "cell_type": "markdown",
   "metadata": {},
   "source": [
    "## Problem 4\n",
    "\n",
    "I drew 6 observations from an undisclosed distribution and obtained the following results:\n",
    "  `u = [6.19,7.048,6.143,5.459,4.603,4.335]`\n",
    "  \n",
    "I also drew 8 observations from another undisclosed distribution and got \n",
    "  `v = [8.924,4.698,6.095,4.223,3.643,1.624,1.444,6.309]`\n",
    "  \n",
    "(a) Determine whether the Wald hypothesis test (with significance $\\alpha = 0.05$) rejects the null hypothesis that the mean of the two distributions are equal. \n",
    "\n",
    "(b) Repeat with Welch's t-test in place of the the Wald test. "
   ]
  },
  {
   "cell_type": "markdown",
   "metadata": {},
   "source": [
    "**Solution:**     \n",
    "(a) The value of $\\bar u - \\bar v$ devided by its estimated standard error is $1.03$, which is smaller than $1.96$, thus the Wald hypothesis test fail to reject the null hypothesis."
   ]
  },
  {
   "cell_type": "code",
   "execution_count": 10,
   "metadata": {},
   "outputs": [
    {
     "data": {
      "text/plain": [
       "1.0308912329587916"
      ]
     },
     "execution_count": 10,
     "metadata": {},
     "output_type": "execute_result"
    }
   ],
   "source": [
    "using Statistics, Distributions\n",
    "u = [6.19,7.048,6.143,5.459,4.603,4.335]\n",
    "v = [8.924,4.698,6.095,4.223,3.643,1.624,1.444,6.309]\n",
    "m_u, m_v = mean(u), mean(v)\n",
    "s_u, s_v = std(u), std(v)\n",
    "n_u, n_v = length(u), length(v)\n",
    "var_ = sqrt(s_u^2/n_u + s_v^2/n_v)\n",
    "z = (m_u - m_v)/var_\n",
    "# ccdf(Normal(0, 1), z)"
   ]
  },
  {
   "cell_type": "markdown",
   "metadata": {},
   "source": [
    "(b) $0.16 > 0.05$, thus we fail to reject the null hypothesis."
   ]
  },
  {
   "cell_type": "code",
   "execution_count": 11,
   "metadata": {},
   "outputs": [
    {
     "data": {
      "text/plain": [
       "0.16362890490503346"
      ]
     },
     "execution_count": 11,
     "metadata": {},
     "output_type": "execute_result"
    }
   ],
   "source": [
    "a = s_u^2/n_u\n",
    "b = s_v^2/n_v\n",
    "ν = (a + b)^2 / (a^2/(n_u-1) + b^2/(n_v-1))\n",
    "t = (m_u - m_v)/sqrt(a+b)\n",
    "ccdf(TDist(ν), t)"
   ]
  },
  {
   "cell_type": "markdown",
   "metadata": {},
   "source": [
    "## Problem 5\n",
    "\n",
    "Consider a distribution $\\nu$ which is known only via a dozen samples therefrom, the values of which are\n",
    "```julia\n",
    "    [8.924,4.698,6.095,4.223,3.643,1.624,1.444,6.309]\n",
    "```\n",
    "\n",
    "(a) Obtain a bootstrap estimate of the standard deviation of the\n",
    "    median of five independent samples from $\\nu$.\n",
    "\n",
    "(b) The actual standard deviation of the median of 5 samples from\n",
    "    $\\nu$ is approximately 2.14. How close is the value you found?\n",
    "    Could you have gotten as close as desired to this value by\n",
    "    choosing sufficiently many bootstrap re-samplings?"
   ]
  },
  {
   "cell_type": "code",
   "execution_count": 12,
   "metadata": {},
   "outputs": [
    {
     "data": {
      "text/plain": [
       "1.436224432975551"
      ]
     },
     "execution_count": 12,
     "metadata": {},
     "output_type": "execute_result"
    }
   ],
   "source": [
    "#(a)\n",
    "data = [8.924,4.698,6.095,4.223,3.643,1.624,1.444,6.309]\n",
    "boot_estimates = [median(sample(data,5)) for _ in 1:10^5]\n",
    "std(boot_estimates)"
   ]
  },
  {
   "cell_type": "markdown",
   "metadata": {},
   "source": [
    "(b)    \n",
    "The result we get above is kind far from the actual standard deviation. The percentage error is 32.7%.  \n",
    "We cannot, sufficient re-samplings can only tell us the standard deviation of the 8 samples, not the actually distribution, as the 8 samples does not necessarily represent the whole sample well. "
   ]
  },
  {
   "cell_type": "code",
   "execution_count": 13,
   "metadata": {},
   "outputs": [
    {
     "data": {
      "text/plain": [
       "\"32.71028037383178%\""
      ]
     },
     "execution_count": 13,
     "metadata": {},
     "output_type": "execute_result"
    }
   ],
   "source": [
    "string(abs(1.44 - 2.14)/2.14 * 100) * '%'"
   ]
  },
  {
   "cell_type": "markdown",
   "metadata": {},
   "source": [
    "## Problem 6\n",
    "\n",
    "Consider a population of patients who have had a recent heart attack. A randomized trial is conducted in which each patient is assigned with equal probability (and independently of any attribute of the patient) to either a heart medication regimen or a placebo. Each patient has a unknown genetic attribute $X$ which is uniformly distributed on $[0,1]$.\n",
    "\n",
    "Suppose that the probability that a patient will comply with the regimen (that is, take the medication as prescribed) is $(1+X)/2$. The conditional probability that they will survive the following decade, given $X$ and given that they take the drug, is $3X/4$. The conditional probability that they will survive the following decade is, given $X$ and given that they do not take the drug, is $(X+1)/4$.\n",
    "\n",
    "(a) Fill out the following tables, indicating the probability of each outcome. The eight numbers should sum to 1. \n",
    "\n",
    "<table>\n",
    "  <tr>\n",
    "    <th>Drug condition</th>\n",
    "    <td>survives</td>\n",
    "    <td>does not survive</td>\n",
    "  </tr>\n",
    "  <tr>\n",
    "    <td>complaint</td>\n",
    "    <td>5/32</td>\n",
    "    <td>7/32</td>\n",
    "  </tr>\n",
    "  <tr>\n",
    "    <td>non-compliant</td>\n",
    "    <td>1/24</td>\n",
    "    <td>1/12</td>\n",
    "  </tr>\n",
    "</table>\n",
    "<table>\n",
    "  <tr>\n",
    "    <th>Placebo condition</th>\n",
    "    <td>survives</td>\n",
    "    <td>does not survive</td>\n",
    "  </tr>\n",
    "  <tr>\n",
    "    <td>complaint</td>\n",
    "    <td>7/48</td>\n",
    "    <td>11/48</td>\n",
    "  </tr>\n",
    "  <tr>\n",
    "    <td>non-compliant</td>\n",
    "    <td>1/24</td>\n",
    "    <td>1/12</td>\n",
    "  </tr>\n",
    "</table>\n",
    "\n",
    "Hint: you want to work out the conditional probabilities of each event given $X$, and then find the expected value of the resulting conditional probability by integrating against the density of $X$. \n",
    "\n",
    "(b) Does a randomly selected patient have a higher conditional probability of surviving if they take the drug or if they do not? Does comparing the survival probabilities for the drug and placebo conditions give the correct answer to this question?\n",
    "\n",
    "(c) Suppose you know yourself well enough to be confident that you'd be relatively unlikely to comply with a prescription regimen if you had participated in this clinical trial. Based on the given probability model, should you take the drug? Would you get the right answer or the wrong answer if you just compared the survival rates for compliant and noncompliant patients?"
   ]
  },
  {
   "cell_type": "code",
   "execution_count": 47,
   "metadata": {},
   "outputs": [
    {
     "name": "stdout",
     "output_type": "stream",
     "text": [
      "5/32\n",
      "7/32\n",
      "1/24\n",
      "1/12\n",
      "7/48\n",
      "0.229166666666667\n",
      "1/24\n"
     ]
    }
   ],
   "source": [
    "# (a)\n",
    "println(integrate((3x/4)*(1+x)/4, (x,0,1))) # survives & compliant\n",
    "print(integrate((1+x)*(4-3x)/16, (x,0,1)), '\\n') # die & compliant\n",
    "print(integrate((1-x^2)/16,(x,0,1)), '\\n') # survives & not compliant\n",
    "print(integrate(((1-x)*(3-x))/16,(x,0,1)),'\\n') # die & not compliant\n",
    "print(integrate((1+x)^2/16,(x,0,1)),'\\n') # survives & compliant & placebo\n",
    "print(integrate(1/2 * (1+x)/2 * (1 - (x + 1)/4),(x,0,1)),'\\n') # die & compliant & placebo\n",
    "print(integrate((1-x^2)/16,(x,0,1)),'\\n')"
   ]
  },
  {
   "cell_type": "markdown",
   "metadata": {},
   "source": [
    "(b)  \n",
    "since the probability of survive given that you take the drug or given that you do not take the drug are the same, so they are the same.   \n",
    "We cannot get the correct answer since there are people under drug condition who are not compliant."
   ]
  },
  {
   "cell_type": "code",
   "execution_count": 52,
   "metadata": {},
   "outputs": [
    {
     "data": {
      "text/latex": [
       "\\begin{equation*}0\\end{equation*}"
      ],
      "text/plain": [
       "0"
      ]
     },
     "execution_count": 52,
     "metadata": {},
     "output_type": "execute_result"
    }
   ],
   "source": [
    "integrate(3*x/4,(x,0,1)) - integrate((x+1)/4,(x,0,1))"
   ]
  },
  {
   "cell_type": "markdown",
   "metadata": {},
   "source": [
    "(c)  \n",
    "You should not take the drug. As $\\frac{1}{24} = \\frac{1}{24}$, you should not take the drug as it does not have effect on the probability of survival when you are not compliant."
   ]
  },
  {
   "cell_type": "markdown",
   "metadata": {},
   "source": [
    "## Problem 7\n",
    "\n",
    "(a) Write a function which a distribution `D`, together with an $\\alpha$ value and a positive integer $n$ and returns `true` or `false` according to whether the empirical CDF for a random sample of size $n$ obeys the bound in the DKW inequality. \n",
    "\n",
    "(b) Run the function many times with `α = 0.05` and check that it returns `true` around 95% of the time. "
   ]
  },
  {
   "cell_type": "code",
   "execution_count": 50,
   "metadata": {},
   "outputs": [
    {
     "data": {
      "text/plain": [
       "DKW_check (generic function with 1 method)"
      ]
     },
     "execution_count": 50,
     "metadata": {},
     "output_type": "execute_result"
    }
   ],
   "source": [
    "using Roots\n",
    "function DKW_check(D, α, n) \n",
    "    observation = sort(rand(D,n))\n",
    "    ϵ = find_zero(ϵ -> 2exp(-2n*ϵ^2) - α, 0.1)\n",
    "#     observation_low = sort(rand(D,n) .- ϵ)\n",
    "#     observation_high = sort(rand(D,n) .+ ϵ)\n",
    "# #     cdf_ = [cdf(D, obs) for obs in observation]\n",
    "#     cdf_ = cdf(D,(1:n)/n)\n",
    "#     for i in 1:n\n",
    "#         if cdf_[i] < observation_low[i] || cdf_[i] > observation_high[i]\n",
    "#             return false\n",
    "#         end\n",
    "#     end\n",
    "#     return true\n",
    "    for i in 1:n\n",
    "        if abs(cdf(D,observation[i])-i/n) > ϵ\n",
    "            return false\n",
    "        end\n",
    "    end\n",
    "    return true\n",
    "        \n",
    "end"
   ]
  },
  {
   "cell_type": "code",
   "execution_count": 51,
   "metadata": {},
   "outputs": [
    {
     "data": {
      "text/plain": [
       "0.9537"
      ]
     },
     "execution_count": 51,
     "metadata": {},
     "output_type": "execute_result"
    }
   ],
   "source": [
    "D = Uniform(0,1)\n",
    "α = 0.05\n",
    "n = 1000\n",
    "mean(DKW_check(D, α, n) for _ in 1:10000)"
   ]
  },
  {
   "cell_type": "markdown",
   "metadata": {},
   "source": [
    "## Problem 8\n",
    "\n",
    "Consider a family of distributions of the form $\\mathrm{Uniform}(\\theta, \\theta+1)$, where $\\theta$ is a parameter. Given a sample $X_1, \\ldots, X_n$, show that there isn't a unique maximum likelihood estimator for $\\theta$"
   ]
  },
  {
   "cell_type": "markdown",
   "metadata": {},
   "source": [
    "**Solution:**  \n",
    "The $\\mathbf{pdf}$ of $x_{i}$ is $\\frac{1}{\\theta + 1 - \\theta} = 1$, thus the likelihood $\\mathcal{L}_{x}{(\\theta)} = f_{\\theta}(x_{1})f_{\\theta}(x_{2}) \\dots f_{\\theta}(x_{n}) = 1$, no matter what statistical functional $T$ we pick for $\\theta$, it will not maximum the likelihood since the likelihood is just a constant. Thus, these isn't an unique maximum likelihood estimator for $\\theta$."
   ]
  }
 ],
 "metadata": {
  "jupytext": {
   "formats": "ipynb,md"
  },
  "kernelspec": {
   "display_name": "Julia 1.2.0",
   "language": "julia",
   "name": "julia-1.2"
  },
  "language_info": {
   "file_extension": ".jl",
   "mimetype": "application/julia",
   "name": "julia",
   "version": "1.2.0"
  }
 },
 "nbformat": 4,
 "nbformat_minor": 4
}
