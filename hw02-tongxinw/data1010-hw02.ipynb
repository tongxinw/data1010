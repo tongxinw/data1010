{
 "cells": [
  {
   "cell_type": "markdown",
   "metadata": {},
   "source": [
    "<style>\n",
    "@media print\n",
    "{\n",
    "h2 {page-break-before:always}\n",
    "}\n",
    "</style>\n",
    "\n",
    "# Homework 02\n",
    "\n",
    "Brown University  \n",
    "DATA 1010  \n",
    "Fall 2019\n",
    "\n",
    "## Problem 1\n",
    "\n",
    "Use matrix differentiation to find the vector $\\mathbf{x} \\in \\mathbb{R}^n$ which minimizes the expression $|W(A\\mathbf{x} − \\mathbf{b})|^2$, where A is an $m \\times n$ matrix and W is an $m \\times m$ matrix. You may assume that $WA$ is full-rank."
   ]
  },
  {
   "cell_type": "markdown",
   "metadata": {},
   "source": [
    "***Solution:***    \n",
    "Note that the norms of $W(A\\mathbf{x}-\\mathbf{b})$ and its transpose are the same, so\n",
    "$\n",
    "|W(A\\mathbf{x}-\\mathbf{b})|^2 = (W(A\\mathbf{x}-\\mathbf{b}))'(W(A\\mathbf{x}-\\mathbf{b}))\n",
    "$, and\n",
    "$\n",
    "\\frac{\\operatorname{d}|W(A\\mathbf{x}-\\mathbf{b})|^2}{\\operatorname{d}x} = \\frac{\\operatorname{d}(W(A\\mathbf{x}-\\mathbf{b}))'(W(A\\mathbf{x}-\\mathbf{b}))}{\\operatorname{d}x}\\\\ = (W(A\\mathbf{x}-\\mathbf{b}))'\\frac{\\operatorname{d}W(A\\mathbf{x}-\\mathbf{b})}{\\operatorname{d}x}+(W(A\\mathbf{x}-\\mathbf{b}))'\\frac{\\operatorname{d}W(A\\mathbf{x}-\\mathbf{b})}{\\operatorname{d}x} = 2(W(A\\mathbf{x}-\\mathbf{b}))'\\frac{\\operatorname{d}W(A\\mathbf{x}-\\mathbf{b})}{\\operatorname{d}x}\n",
    "$   \n",
    "since we want to find the $\\mathbf{x}$ minimizes the expression, set the function to $0$, thus we have       \n",
    "$\n",
    "(W(A\\mathbf{x}-\\mathbf{b}))'\\frac{\\operatorname{d}W(A\\mathbf{x}-\\mathbf{b})}{\\operatorname{d}x} = 0\\\\\n",
    "(A\\mathbf{x}-\\mathbf{b})'W'WA = 0\\\\\n",
    "(\\mathbf{x}'A'-\\mathbf{b}')W'WA=0\\\\\n",
    "\\mathbf{x}'A'W'WA = \\mathbf{b}'W'WA \\text{ , and by taking transpose of both sides}\\\\\n",
    "A'W'WA\\mathbf{x} = A'W'W\\mathbf{b}\\\\\n",
    "\\mathbf{x} = (A'W'WA)^{-1}A'W'W\\mathbf{b}\n",
    "$"
   ]
  },
  {
   "cell_type": "markdown",
   "metadata": {},
   "source": [
    "## Problem 2\n",
    "\n",
    "Find the derivative of $|\\mathbf{x}|$ with respect to $\\mathbf{x}$. Hint: write $|\\mathbf{x}|$ as $\\sqrt{\\mathbf{x}'\\mathbf{x}}$ and use the chain rule, which says that if $g: \\mathbb{R}_n \\rightarrow \\mathbb{R}$ and $f: \\mathbb{R} → \\mathbb{R}$, then\n",
    "\n",
    " $$\\frac{\\partial}{\\partial \\mathbf{x}}f(g(\\mathbf{x})) = \\frac{\\operatorname{d}f}{\\operatorname{d}t}(g(\\mathbf{x}))\\frac{\\partial g}{\\partial \\mathbf{x}}(\\mathbf{x}).$$\n",
    "\n",
    "Interpret your answer geometrically and explain why it makes sense."
   ]
  },
  {
   "cell_type": "markdown",
   "metadata": {},
   "source": [
    "***Solution:***   \n",
    "$\n",
    "\\frac{\\operatorname{d}\\sqrt{\\mathbf{x}'\\mathbf{x}}}{\\operatorname{d}\\mathbf{x}}\\\\\n",
    "= \\frac{1}{2}(\\mathbf{x}'\\mathbf{x})^{-\\frac{1}{2}}\\cdot(\\mathbf{x}'\\frac{\\operatorname{d}x}{\\operatorname{d}x} + \\mathbf{x}'\\frac{\\operatorname{d}x}{\\operatorname{d}x})\\\\\n",
    "=\\frac{\\mathbf{x}'}{\\sqrt{\\mathbf{x}'\\mathbf{x}}}\\\\\n",
    "=\\frac{\\mathbf{x}'}{|\\mathbf{x}|}\n",
    "$    \n",
    "    \n",
    "***Explaination:***   \n",
    "While taking derivative of $|\\mathbf{x}|$ with respect to $\\mathbf{x}$, the norm of the derivative is 1 as the norm of $\\mathbf{x}$ is $|\\mathbf{x}|$, and the norm of $\\frac{\\mathbf{x}'}{|\\mathbf{x}|}$ is alse 1, so it makes sense.     \n",
    "The direction of the derivative of $|\\mathbf{x}|$ with respect to $\\mathbf{x}$ is the direction of the maximum increase, which is the same as the direction of $\\mathbf{x}'$, so it makes sense."
   ]
  },
  {
   "cell_type": "markdown",
   "metadata": {},
   "source": [
    "## Problem 3\n",
    "\n",
    "(i) Find the line through the origin for which the sum of squared distances from the line to points in the set \n",
    "\n",
    "$$\\{(3, −1),(2, 4),(−1, −1),(−2, 2),(−3, 1),(5, −1),(−2, 4)\\}$$\n",
    "\n",
    "is as small as possible.\n",
    "\n",
    "(ii) Find the slope of the zero-intercept line of best fit for these points using the formula $m = (A'A)^{-1}A'\\mathbf{b}$, where $A$ is a column vector whose entries are the $x$ coordinates of the points and where $\\mathbf{b}$ is a column vector whose components are the $y$-components of the points (in the same order). Recall that this is the line which minimizes $\\sum_i(mx_i - y_i)^2$ where ($x_i$\n",
    ", $y_i$) ranges over the given points.\n",
    "\n",
    "(iii) Draw both of these lines and explain why they are not the same even though they both minimize a sum of squared distances.\n",
    "```Julia\n",
    "using Plots, LinearAlgebra\n",
    "A = [3 2 -1 -2 -3 5 -2; -1 4 -1 2 1 -1 4]\n",
    "scatter(A[1,:], A[2,:])\n",
    "```"
   ]
  },
  {
   "cell_type": "code",
   "execution_count": 34,
   "metadata": {},
   "outputs": [
    {
     "data": {
      "image/svg+xml": [
       "<?xml version=\"1.0\" encoding=\"utf-8\"?>\n",
       "<svg xmlns=\"http://www.w3.org/2000/svg\" xmlns:xlink=\"http://www.w3.org/1999/xlink\" width=\"600\" height=\"400\" viewBox=\"0 0 2400 1600\">\n",
       "<defs>\n",
       "  <clipPath id=\"clip6400\">\n",
       "    <rect x=\"0\" y=\"0\" width=\"2400\" height=\"1600\"/>\n",
       "  </clipPath>\n",
       "</defs>\n",
       "<polygon clip-path=\"url(#clip6400)\" points=\"\n",
       "0,1600 2400,1600 2400,0 0,0 \n",
       "  \" fill=\"#ffffff\" fill-rule=\"evenodd\" fill-opacity=\"1\"/>\n",
       "<defs>\n",
       "  <clipPath id=\"clip6401\">\n",
       "    <rect x=\"480\" y=\"0\" width=\"1681\" height=\"1600\"/>\n",
       "  </clipPath>\n",
       "</defs>\n",
       "<polygon clip-path=\"url(#clip6400)\" points=\"\n",
       "527.195,1487.47 1967.43,1487.47 1967.43,47.2441 527.195,47.2441 \n",
       "  \" fill=\"#ffffff\" fill-rule=\"evenodd\" fill-opacity=\"1\"/>\n",
       "<defs>\n",
       "  <clipPath id=\"clip6402\">\n",
       "    <rect x=\"527\" y=\"47\" width=\"1441\" height=\"1441\"/>\n",
       "  </clipPath>\n",
       "</defs>\n",
       "<polyline clip-path=\"url(#clip6402)\" style=\"stroke:#000000; stroke-width:2; stroke-opacity:0.1; fill:none\" points=\"\n",
       "  527.195,1487.47 527.195,47.2441 \n",
       "  \"/>\n",
       "<polyline clip-path=\"url(#clip6402)\" style=\"stroke:#000000; stroke-width:2; stroke-opacity:0.1; fill:none\" points=\"\n",
       "  767.233,1487.47 767.233,47.2441 \n",
       "  \"/>\n",
       "<polyline clip-path=\"url(#clip6402)\" style=\"stroke:#000000; stroke-width:2; stroke-opacity:0.1; fill:none\" points=\"\n",
       "  1007.27,1487.47 1007.27,47.2441 \n",
       "  \"/>\n",
       "<polyline clip-path=\"url(#clip6402)\" style=\"stroke:#000000; stroke-width:2; stroke-opacity:0.1; fill:none\" points=\"\n",
       "  1247.31,1487.47 1247.31,47.2441 \n",
       "  \"/>\n",
       "<polyline clip-path=\"url(#clip6402)\" style=\"stroke:#000000; stroke-width:2; stroke-opacity:0.1; fill:none\" points=\"\n",
       "  1487.35,1487.47 1487.35,47.2441 \n",
       "  \"/>\n",
       "<polyline clip-path=\"url(#clip6402)\" style=\"stroke:#000000; stroke-width:2; stroke-opacity:0.1; fill:none\" points=\"\n",
       "  1727.39,1487.47 1727.39,47.2441 \n",
       "  \"/>\n",
       "<polyline clip-path=\"url(#clip6402)\" style=\"stroke:#000000; stroke-width:2; stroke-opacity:0.1; fill:none\" points=\"\n",
       "  1967.43,1487.47 1967.43,47.2441 \n",
       "  \"/>\n",
       "<polyline clip-path=\"url(#clip6402)\" style=\"stroke:#000000; stroke-width:2; stroke-opacity:0.1; fill:none\" points=\"\n",
       "  527.195,1487.47 1967.43,1487.47 \n",
       "  \"/>\n",
       "<polyline clip-path=\"url(#clip6402)\" style=\"stroke:#000000; stroke-width:2; stroke-opacity:0.1; fill:none\" points=\"\n",
       "  527.195,1247.44 1967.43,1247.44 \n",
       "  \"/>\n",
       "<polyline clip-path=\"url(#clip6402)\" style=\"stroke:#000000; stroke-width:2; stroke-opacity:0.1; fill:none\" points=\"\n",
       "  527.195,1007.4 1967.43,1007.4 \n",
       "  \"/>\n",
       "<polyline clip-path=\"url(#clip6402)\" style=\"stroke:#000000; stroke-width:2; stroke-opacity:0.1; fill:none\" points=\"\n",
       "  527.195,767.359 1967.43,767.359 \n",
       "  \"/>\n",
       "<polyline clip-path=\"url(#clip6402)\" style=\"stroke:#000000; stroke-width:2; stroke-opacity:0.1; fill:none\" points=\"\n",
       "  527.195,527.321 1967.43,527.321 \n",
       "  \"/>\n",
       "<polyline clip-path=\"url(#clip6402)\" style=\"stroke:#000000; stroke-width:2; stroke-opacity:0.1; fill:none\" points=\"\n",
       "  527.195,287.283 1967.43,287.283 \n",
       "  \"/>\n",
       "<polyline clip-path=\"url(#clip6402)\" style=\"stroke:#000000; stroke-width:2; stroke-opacity:0.1; fill:none\" points=\"\n",
       "  527.195,47.2441 1967.43,47.2441 \n",
       "  \"/>\n",
       "<polyline clip-path=\"url(#clip6400)\" style=\"stroke:#000000; stroke-width:4; stroke-opacity:1; fill:none\" points=\"\n",
       "  527.195,1487.47 1967.43,1487.47 \n",
       "  \"/>\n",
       "<polyline clip-path=\"url(#clip6400)\" style=\"stroke:#000000; stroke-width:4; stroke-opacity:1; fill:none\" points=\"\n",
       "  527.195,1487.47 527.195,47.2441 \n",
       "  \"/>\n",
       "<polyline clip-path=\"url(#clip6400)\" style=\"stroke:#000000; stroke-width:4; stroke-opacity:1; fill:none\" points=\"\n",
       "  527.195,1487.47 527.195,1465.87 \n",
       "  \"/>\n",
       "<polyline clip-path=\"url(#clip6400)\" style=\"stroke:#000000; stroke-width:4; stroke-opacity:1; fill:none\" points=\"\n",
       "  767.233,1487.47 767.233,1465.87 \n",
       "  \"/>\n",
       "<polyline clip-path=\"url(#clip6400)\" style=\"stroke:#000000; stroke-width:4; stroke-opacity:1; fill:none\" points=\"\n",
       "  1007.27,1487.47 1007.27,1465.87 \n",
       "  \"/>\n",
       "<polyline clip-path=\"url(#clip6400)\" style=\"stroke:#000000; stroke-width:4; stroke-opacity:1; fill:none\" points=\"\n",
       "  1247.31,1487.47 1247.31,1465.87 \n",
       "  \"/>\n",
       "<polyline clip-path=\"url(#clip6400)\" style=\"stroke:#000000; stroke-width:4; stroke-opacity:1; fill:none\" points=\"\n",
       "  1487.35,1487.47 1487.35,1465.87 \n",
       "  \"/>\n",
       "<polyline clip-path=\"url(#clip6400)\" style=\"stroke:#000000; stroke-width:4; stroke-opacity:1; fill:none\" points=\"\n",
       "  1727.39,1487.47 1727.39,1465.87 \n",
       "  \"/>\n",
       "<polyline clip-path=\"url(#clip6400)\" style=\"stroke:#000000; stroke-width:4; stroke-opacity:1; fill:none\" points=\"\n",
       "  1967.43,1487.47 1967.43,1465.87 \n",
       "  \"/>\n",
       "<polyline clip-path=\"url(#clip6400)\" style=\"stroke:#000000; stroke-width:4; stroke-opacity:1; fill:none\" points=\"\n",
       "  527.195,1487.47 548.798,1487.47 \n",
       "  \"/>\n",
       "<polyline clip-path=\"url(#clip6400)\" style=\"stroke:#000000; stroke-width:4; stroke-opacity:1; fill:none\" points=\"\n",
       "  527.195,1247.44 548.798,1247.44 \n",
       "  \"/>\n",
       "<polyline clip-path=\"url(#clip6400)\" style=\"stroke:#000000; stroke-width:4; stroke-opacity:1; fill:none\" points=\"\n",
       "  527.195,1007.4 548.798,1007.4 \n",
       "  \"/>\n",
       "<polyline clip-path=\"url(#clip6400)\" style=\"stroke:#000000; stroke-width:4; stroke-opacity:1; fill:none\" points=\"\n",
       "  527.195,767.359 548.798,767.359 \n",
       "  \"/>\n",
       "<polyline clip-path=\"url(#clip6400)\" style=\"stroke:#000000; stroke-width:4; stroke-opacity:1; fill:none\" points=\"\n",
       "  527.195,527.321 548.798,527.321 \n",
       "  \"/>\n",
       "<polyline clip-path=\"url(#clip6400)\" style=\"stroke:#000000; stroke-width:4; stroke-opacity:1; fill:none\" points=\"\n",
       "  527.195,287.283 548.798,287.283 \n",
       "  \"/>\n",
       "<polyline clip-path=\"url(#clip6400)\" style=\"stroke:#000000; stroke-width:4; stroke-opacity:1; fill:none\" points=\"\n",
       "  527.195,47.2441 548.798,47.2441 \n",
       "  \"/>\n",
       "<g clip-path=\"url(#clip6400)\">\n",
       "<text style=\"fill:#000000; fill-opacity:1; font-family:Arial,Helvetica Neue,Helvetica,sans-serif; font-size:48px; text-anchor:middle;\" transform=\"rotate(0, 527.195, 1541.47)\" x=\"527.195\" y=\"1541.47\">-6</text>\n",
       "</g>\n",
       "<g clip-path=\"url(#clip6400)\">\n",
       "<text style=\"fill:#000000; fill-opacity:1; font-family:Arial,Helvetica Neue,Helvetica,sans-serif; font-size:48px; text-anchor:middle;\" transform=\"rotate(0, 767.233, 1541.47)\" x=\"767.233\" y=\"1541.47\">-4</text>\n",
       "</g>\n",
       "<g clip-path=\"url(#clip6400)\">\n",
       "<text style=\"fill:#000000; fill-opacity:1; font-family:Arial,Helvetica Neue,Helvetica,sans-serif; font-size:48px; text-anchor:middle;\" transform=\"rotate(0, 1007.27, 1541.47)\" x=\"1007.27\" y=\"1541.47\">-2</text>\n",
       "</g>\n",
       "<g clip-path=\"url(#clip6400)\">\n",
       "<text style=\"fill:#000000; fill-opacity:1; font-family:Arial,Helvetica Neue,Helvetica,sans-serif; font-size:48px; text-anchor:middle;\" transform=\"rotate(0, 1247.31, 1541.47)\" x=\"1247.31\" y=\"1541.47\">0</text>\n",
       "</g>\n",
       "<g clip-path=\"url(#clip6400)\">\n",
       "<text style=\"fill:#000000; fill-opacity:1; font-family:Arial,Helvetica Neue,Helvetica,sans-serif; font-size:48px; text-anchor:middle;\" transform=\"rotate(0, 1487.35, 1541.47)\" x=\"1487.35\" y=\"1541.47\">2</text>\n",
       "</g>\n",
       "<g clip-path=\"url(#clip6400)\">\n",
       "<text style=\"fill:#000000; fill-opacity:1; font-family:Arial,Helvetica Neue,Helvetica,sans-serif; font-size:48px; text-anchor:middle;\" transform=\"rotate(0, 1727.39, 1541.47)\" x=\"1727.39\" y=\"1541.47\">4</text>\n",
       "</g>\n",
       "<g clip-path=\"url(#clip6400)\">\n",
       "<text style=\"fill:#000000; fill-opacity:1; font-family:Arial,Helvetica Neue,Helvetica,sans-serif; font-size:48px; text-anchor:middle;\" transform=\"rotate(0, 1967.43, 1541.47)\" x=\"1967.43\" y=\"1541.47\">6</text>\n",
       "</g>\n",
       "<g clip-path=\"url(#clip6400)\">\n",
       "<text style=\"fill:#000000; fill-opacity:1; font-family:Arial,Helvetica Neue,Helvetica,sans-serif; font-size:48px; text-anchor:end;\" transform=\"rotate(0, 503.195, 1504.97)\" x=\"503.195\" y=\"1504.97\">-6</text>\n",
       "</g>\n",
       "<g clip-path=\"url(#clip6400)\">\n",
       "<text style=\"fill:#000000; fill-opacity:1; font-family:Arial,Helvetica Neue,Helvetica,sans-serif; font-size:48px; text-anchor:end;\" transform=\"rotate(0, 503.195, 1264.94)\" x=\"503.195\" y=\"1264.94\">-4</text>\n",
       "</g>\n",
       "<g clip-path=\"url(#clip6400)\">\n",
       "<text style=\"fill:#000000; fill-opacity:1; font-family:Arial,Helvetica Neue,Helvetica,sans-serif; font-size:48px; text-anchor:end;\" transform=\"rotate(0, 503.195, 1024.9)\" x=\"503.195\" y=\"1024.9\">-2</text>\n",
       "</g>\n",
       "<g clip-path=\"url(#clip6400)\">\n",
       "<text style=\"fill:#000000; fill-opacity:1; font-family:Arial,Helvetica Neue,Helvetica,sans-serif; font-size:48px; text-anchor:end;\" transform=\"rotate(0, 503.195, 784.859)\" x=\"503.195\" y=\"784.859\">0</text>\n",
       "</g>\n",
       "<g clip-path=\"url(#clip6400)\">\n",
       "<text style=\"fill:#000000; fill-opacity:1; font-family:Arial,Helvetica Neue,Helvetica,sans-serif; font-size:48px; text-anchor:end;\" transform=\"rotate(0, 503.195, 544.821)\" x=\"503.195\" y=\"544.821\">2</text>\n",
       "</g>\n",
       "<g clip-path=\"url(#clip6400)\">\n",
       "<text style=\"fill:#000000; fill-opacity:1; font-family:Arial,Helvetica Neue,Helvetica,sans-serif; font-size:48px; text-anchor:end;\" transform=\"rotate(0, 503.195, 304.783)\" x=\"503.195\" y=\"304.783\">4</text>\n",
       "</g>\n",
       "<g clip-path=\"url(#clip6400)\">\n",
       "<text style=\"fill:#000000; fill-opacity:1; font-family:Arial,Helvetica Neue,Helvetica,sans-serif; font-size:48px; text-anchor:end;\" transform=\"rotate(0, 503.195, 64.7441)\" x=\"503.195\" y=\"64.7441\">6</text>\n",
       "</g>\n",
       "<circle clip-path=\"url(#clip6402)\" style=\"fill:#000000; stroke:none; fill-opacity:1\" cx=\"1607.37\" cy=\"887.379\" r=\"18\"/>\n",
       "<circle clip-path=\"url(#clip6402)\" style=\"fill:#009af9; stroke:none; fill-opacity:1\" cx=\"1607.37\" cy=\"887.379\" r=\"14\"/>\n",
       "<circle clip-path=\"url(#clip6402)\" style=\"fill:#000000; stroke:none; fill-opacity:1\" cx=\"1487.35\" cy=\"287.283\" r=\"18\"/>\n",
       "<circle clip-path=\"url(#clip6402)\" style=\"fill:#009af9; stroke:none; fill-opacity:1\" cx=\"1487.35\" cy=\"287.283\" r=\"14\"/>\n",
       "<circle clip-path=\"url(#clip6402)\" style=\"fill:#000000; stroke:none; fill-opacity:1\" cx=\"1127.29\" cy=\"887.379\" r=\"18\"/>\n",
       "<circle clip-path=\"url(#clip6402)\" style=\"fill:#009af9; stroke:none; fill-opacity:1\" cx=\"1127.29\" cy=\"887.379\" r=\"14\"/>\n",
       "<circle clip-path=\"url(#clip6402)\" style=\"fill:#000000; stroke:none; fill-opacity:1\" cx=\"1007.27\" cy=\"527.321\" r=\"18\"/>\n",
       "<circle clip-path=\"url(#clip6402)\" style=\"fill:#009af9; stroke:none; fill-opacity:1\" cx=\"1007.27\" cy=\"527.321\" r=\"14\"/>\n",
       "<circle clip-path=\"url(#clip6402)\" style=\"fill:#000000; stroke:none; fill-opacity:1\" cx=\"887.253\" cy=\"647.34\" r=\"18\"/>\n",
       "<circle clip-path=\"url(#clip6402)\" style=\"fill:#009af9; stroke:none; fill-opacity:1\" cx=\"887.253\" cy=\"647.34\" r=\"14\"/>\n",
       "<circle clip-path=\"url(#clip6402)\" style=\"fill:#000000; stroke:none; fill-opacity:1\" cx=\"1847.41\" cy=\"887.379\" r=\"18\"/>\n",
       "<circle clip-path=\"url(#clip6402)\" style=\"fill:#009af9; stroke:none; fill-opacity:1\" cx=\"1847.41\" cy=\"887.379\" r=\"14\"/>\n",
       "<circle clip-path=\"url(#clip6402)\" style=\"fill:#000000; stroke:none; fill-opacity:1\" cx=\"1007.27\" cy=\"287.283\" r=\"18\"/>\n",
       "<circle clip-path=\"url(#clip6402)\" style=\"fill:#009af9; stroke:none; fill-opacity:1\" cx=\"1007.27\" cy=\"287.283\" r=\"14\"/>\n",
       "<polyline clip-path=\"url(#clip6402)\" style=\"stroke:#e26f46; stroke-width:4; stroke-opacity:1; fill:none\" points=\"\n",
       "  527.195,349.46 647.214,419.11 767.233,488.76 887.253,558.41 1007.27,628.06 1127.29,697.71 1247.31,767.359 1367.33,837.009 1487.35,906.659 1607.37,976.309 \n",
       "  1727.39,1045.96 1847.41,1115.61 1967.43,1185.26 \n",
       "  \"/>\n",
       "<polyline clip-path=\"url(#clip6402)\" style=\"stroke:#3da44d; stroke-width:4; stroke-opacity:1; fill:none\" points=\"\n",
       "  527.195,664.486 647.214,681.631 767.233,698.777 887.253,715.923 1007.27,733.068 1127.29,750.214 1247.31,767.359 1367.33,784.505 1487.35,801.651 1607.37,818.796 \n",
       "  1727.39,835.942 1847.41,853.087 1967.43,870.233 \n",
       "  \"/>\n",
       "<polygon clip-path=\"url(#clip6400)\" points=\"\n",
       "1604.6,372.684 1895.43,372.684 1895.43,130.764 1604.6,130.764 \n",
       "  \" fill=\"#ffffff\" fill-rule=\"evenodd\" fill-opacity=\"1\"/>\n",
       "<polyline clip-path=\"url(#clip6400)\" style=\"stroke:#000000; stroke-width:4; stroke-opacity:1; fill:none\" points=\"\n",
       "  1604.6,372.684 1895.43,372.684 1895.43,130.764 1604.6,130.764 1604.6,372.684 \n",
       "  \"/>\n",
       "<circle clip-path=\"url(#clip6400)\" style=\"fill:#000000; stroke:none; fill-opacity:1\" cx=\"1712.6\" cy=\"191.244\" r=\"25\"/>\n",
       "<circle clip-path=\"url(#clip6400)\" style=\"fill:#009af9; stroke:none; fill-opacity:1\" cx=\"1712.6\" cy=\"191.244\" r=\"21\"/>\n",
       "<g clip-path=\"url(#clip6400)\">\n",
       "<text style=\"fill:#000000; fill-opacity:1; font-family:Arial,Helvetica Neue,Helvetica,sans-serif; font-size:48px; text-anchor:start;\" transform=\"rotate(0, 1796.6, 208.744)\" x=\"1796.6\" y=\"208.744\">y1</text>\n",
       "</g>\n",
       "<polyline clip-path=\"url(#clip6400)\" style=\"stroke:#e26f46; stroke-width:4; stroke-opacity:1; fill:none\" points=\"\n",
       "  1628.6,251.724 1772.6,251.724 \n",
       "  \"/>\n",
       "<g clip-path=\"url(#clip6400)\">\n",
       "<text style=\"fill:#000000; fill-opacity:1; font-family:Arial,Helvetica Neue,Helvetica,sans-serif; font-size:48px; text-anchor:start;\" transform=\"rotate(0, 1796.6, 269.224)\" x=\"1796.6\" y=\"269.224\">y2</text>\n",
       "</g>\n",
       "<polyline clip-path=\"url(#clip6400)\" style=\"stroke:#3da44d; stroke-width:4; stroke-opacity:1; fill:none\" points=\"\n",
       "  1628.6,312.204 1772.6,312.204 \n",
       "  \"/>\n",
       "<g clip-path=\"url(#clip6400)\">\n",
       "<text style=\"fill:#000000; fill-opacity:1; font-family:Arial,Helvetica Neue,Helvetica,sans-serif; font-size:48px; text-anchor:start;\" transform=\"rotate(0, 1796.6, 329.704)\" x=\"1796.6\" y=\"329.704\">y3</text>\n",
       "</g>\n",
       "</svg>\n"
      ]
     },
     "execution_count": 34,
     "metadata": {},
     "output_type": "execute_result"
    }
   ],
   "source": [
    "using Plots, LinearAlgebra, SymPy\n",
    "\n",
    "A = [3 2 -1 -2 -3 5 -2; -1 4 -1 2 1 -1 4]\n",
    "scatter(A[1,:], A[2,:], xlims = (-6,6), ylims = (-6,6), aspect_ratio = :equal)\n",
    "\n",
    "a,b = svd(A').V[:,1]\n",
    "\n",
    "k = -1/7\n",
    "\n",
    "plot!(-6:6, x->(b/a)*x)\n",
    "plot!(-6:6,x->k*x)"
   ]
  },
  {
   "cell_type": "markdown",
   "metadata": {},
   "source": [
    "***Solution:***    \n",
    "i.\n",
    "```Julia\n",
    "A = [3 2 -1 -2 -3 5 -2; -1 4 -1 2 1 -1 4]\n",
    "scatter(A[1,:], A[2,:])\n",
    "\n",
    "a,b = svd(A).V[:,1]\n",
    "plot!(-5:6, x-> (b/a)*x)\n",
    "```   \n",
    "<font color = red>the red line</font> represents the line for part (i)   \n",
    "ii.\n",
    "```Julia\n",
    "using SymPy\n",
    "@vars m b\n",
    "L = sum((y - m*x - b)^2 for (x,y) in eachrow(A))\n",
    "h = diff(L,m)\n",
    "g = diff(L,b)\n",
    "sympy.solve((h,g),(m,b))\n",
    "```\n",
    "we get $m = -\\frac{1}{2} b = \\frac{7}{2}$, so the line will be y = $-\\frac{1}{7}x$   \n",
    "<font color = green>the green line</font> represents the line for part (ii)   \n",
    "iii.    \n",
    "The first line minimizes the sum of squared projection distances from the point to the line, and the second line minimizes the sum of squared vertical distances from the point to the line; thus they are different.\n"
   ]
  },
  {
   "cell_type": "markdown",
   "metadata": {},
   "source": [
    "## Problem 4\n",
    "\n",
    "Find a value of $x$ which is less than $1$ and for which `1 + x + x + x > 1 + 3x` returns `true` . Explain this behavior."
   ]
  },
  {
   "cell_type": "code",
   "execution_count": 39,
   "metadata": {},
   "outputs": [
    {
     "data": {
      "text/plain": [
       "true"
      ]
     },
     "execution_count": 39,
     "metadata": {},
     "output_type": "execute_result"
    }
   ],
   "source": [
    "x = 0.5^52\n",
    "1 + 1.5x + 1.5x + 1.5x > 1 + 4.5x"
   ]
  },
  {
   "cell_type": "markdown",
   "metadata": {},
   "source": [
    "***Expaination:***   \n",
    "The length of the interval between $[1,2)$ is 1, since there are $2^{-52}$ spaces, thus the length of the smallest space is ${0.5}^{52}$.   \n",
    "Let x = ${0.5}^{52}$, then $ 1+1.5x $ is unrepresentable by Float64. While rounding up, we follow the rule of always rounf uo to even times, it will round up to $1+2x$ and so on, $1+1.5x+1.5x+1.5x$ rounds up to $1+6x$, thus is greater than $1+4x$ which is the rounded up by $1+4.5x$.  "
   ]
  },
  {
   "cell_type": "markdown",
   "metadata": {},
   "source": [
    "## Problem 5\n",
    "\n",
    "Explain why the following function returns a value rather than running forever. Explain why it returns the particular value that it returns.\n",
    "\n",
    "```Julia\n",
    "function countdown()\n",
    "    x = 1.0\n",
    "    ctr = 0\n",
    "    while x > 0.0\n",
    "        x /= 2\n",
    "        ctr += 1\n",
    "    end\n",
    "    ctr\n",
    "end\n",
    "```"
   ]
  },
  {
   "cell_type": "code",
   "execution_count": 43,
   "metadata": {},
   "outputs": [
    {
     "data": {
      "text/plain": [
       "1075"
      ]
     },
     "execution_count": 43,
     "metadata": {},
     "output_type": "execute_result"
    }
   ],
   "source": [
    "function countdown()\n",
    "    x = 1.0\n",
    "    ctr = 0\n",
    "    while x > 0.0\n",
    "        x /= 2\n",
    "        ctr += 1\n",
    "    end\n",
    "    ctr\n",
    "end\n",
    "countdown()"
   ]
  },
  {
   "cell_type": "markdown",
   "metadata": {},
   "source": [
    "***Solution:***   \n",
    "We use subnormal numbers to represent small numbers, the smallest tick in the interval $(0,2^{-1022})$ is $2^{-1074}$ as $\\frac{2^{-1022}}{2^{52}} = 2^{-1074}$. When $x = 1.0$, $ctr = 0$, and then $x = \\frac{1}{2}$, $ctr = 1$, and so on...While executing the while loop, the value of ctr is same as the exponential of $\\frac{1}{2}$ corresponding to the value of x. When $x = {\\frac{1}{2}}^{1074}$, $ctr=1074$.    \n",
    "Since ${\\frac{1}{2}}^{1074} > 0.0$, it will still enter the while loop, and $\\frac{{\\frac{1}{2}}^{1074}}{2} = 0$ as moving one tick to the left of ${\\frac{1}{2}}^{1074}$ is 0.0, at the same time $ctr = 1074+1 = 1075$.   \n",
    "When $x = 0.0$, the while loop ends and returns 1075 as ctr value."
   ]
  },
  {
   "cell_type": "markdown",
   "metadata": {},
   "source": [
    "## Problem 6\n",
    "\n",
    "Show that an invertible, square matrix and its inverse have the same condition number."
   ]
  },
  {
   "cell_type": "markdown",
   "metadata": {},
   "source": [
    "***Solution:***\n",
    "Since A is invertible, let's say $\\mathbf{A} = \\mathbf{U}\\Sigma\\mathbf{V}'$, thus $\\mathbf{A}^{-1} = \\mathbf{V}\\Sigma\\mathbf{U}'$ as $\\mathbf{U}$ and $\\mathbf{V}$ are orthogonal.     \n",
    "Since $\\kappa = \\frac{\\sigma_{max}}{\\sigma_{min}}$, and it is the same for $\\mathbf{A}$ and $\\mathbf{A}^{-1}$ since $\\mathbf{U}\\Sigma\\mathbf{V}' = \\mathbf{V}\\Sigma\\mathbf{U}'$. Thus $\\mathbf{A}$ and $\\mathbf{A}^{-1}$ have the same condition number.\n",
    "\n",
    "\n",
    "\n",
    "\n",
    "\n",
    "\n",
    "\n",
    "\n",
    "\n",
    "\n",
    "***Optional Solution:***    \n",
    "Say for function $\\mathbf{A}{x} = {b}$, the condition number is the maximum ratio of the relative error in $\\mathbf{x}$ to the relative error in $\\mathbf{b}$   \n",
    "Let's say the error in $\\mathbf{b}$ is $\\mathbf{e}$,    \n",
    "$\\frac{\\begin{Vmatrix} A^{-1}e \\end{Vmatrix}}{\\begin{Vmatrix} A^{-1}b \\end{Vmatrix}}$ devide by $\\frac{\\begin{Vmatrix}e\\end{Vmatrix}}{\\begin{Vmatrix}b\\end{Vmatrix}}$,     \n",
    "which is $\\frac{\\begin{Vmatrix} A^{-1}e \\end{Vmatrix}}{\\begin{Vmatrix} A^{-1}b \\end{Vmatrix}} \\frac{\\begin{Vmatrix}b\\end{Vmatrix}}{\\begin{Vmatrix}e\\end{Vmatrix}} = \\frac{\\begin{Vmatrix} A^{-1}e \\end{Vmatrix}}{\\begin{Vmatrix}e\\end{Vmatrix}} \\frac{\\begin{Vmatrix}b\\end{Vmatrix}}{\\begin{Vmatrix} A^{-1}b \\end{Vmatrix}}$,    \n",
    "since we need to find the maximum,     \n",
    "$\\max({\\frac{\\begin{Vmatrix} A^{-1}e \\end{Vmatrix}}{\\begin{Vmatrix}e\\end{Vmatrix}} \\frac{\\begin{Vmatrix}b\\end{Vmatrix}}{\\begin{Vmatrix} A^{-1}b \\end{Vmatrix}}})=\\max(\\frac{\\begin{Vmatrix} A^{-1}e \\end{Vmatrix}}{\\begin{Vmatrix}e\\end{Vmatrix}}) \\max(\\frac{\\begin{Vmatrix}b\\end{Vmatrix}}{\\begin{Vmatrix} A^{-1}b \\end{Vmatrix}})$      \n",
    "$=\\max(\\begin{Vmatrix}A^{-1}\\end{Vmatrix})\\max(\\frac{\\begin{Vmatrix}Ax\\end{Vmatrix}}{\\begin{Vmatrix}x\\end{Vmatrix}})$      \n",
    "= $\\begin{Vmatrix}A^{-1}\\end{Vmatrix}\\begin{Vmatrix}A\\end{Vmatrix}$      \n",
    "Thus the condition number for $A$ is $\\begin{Vmatrix}A^{-1}\\end{Vmatrix}\\begin{Vmatrix}A\\end{Vmatrix}$,      \n",
    "we apply the same process to the the condition number for $A^{-1}$, and get $\\begin{Vmatrix}A\\end{Vmatrix}\\begin{Vmatrix}A^{-1}\\end{Vmatrix}$,      \n",
    "since $\\begin{Vmatrix}A^{-1}\\end{Vmatrix}\\begin{Vmatrix}A\\end{Vmatrix} = \\begin{Vmatrix}A\\end{Vmatrix}\\begin{Vmatrix}A^{-1}\\end{Vmatrix}$, we say condition numbers for $A$ and $A^{-1}$ are the same.\n"
   ]
  },
  {
   "cell_type": "markdown",
   "metadata": {},
   "source": [
    "## Problem 7\n",
    "\n",
    "Consider the $n \\times n$ Frank matrix $F_n$, defined as shown in the code block below.\n",
    "\n",
    "```Julia\n",
    "function frankmatrix(n)\n",
    "    A = zeros(n,n)\n",
    "    for i=1:n\n",
    "        for j=1:n\n",
    "            if j == i-1\n",
    "                A[i,j] = n + 1 - i\n",
    "            elseif j ≥ i\n",
    "                A[i,j] = n + 1 - j\n",
    "            end\n",
    "        end\n",
    "    end\n",
    "    A\n",
    "end\n",
    "```\n",
    "\n",
    "Find $F^{-1}_n \\mathbf{v}$, where $\\mathbf{v} \\in \\mathbb{R}_n$ has all components equal to 1, by inspection. (Generate $F_n$ for some small values of $n$ and look at it).\n",
    "\n",
    "Evaluate ` frankmatrix(n) \\ ones(n) ` for $n \\in {10, 15, 20, 25, 30}$ and calculate the norm of the difference between this numerical solution and the true solution. Compare your result to the product of `eps()` (which equals $2^{−52}$, the gap between $1$ and the nearest representable $64$-bit floating point) and the condition number of $F_n$ (which can be calculated using the function `cond`). Hint: a good way to do this comparison is to plot the log of each of these quantities over the specified range of $n$ values.\n",
    "\n",
    "Based on your findings, comment on whether the algorithm being used for `\\` is stable."
   ]
  },
  {
   "cell_type": "code",
   "execution_count": 1,
   "metadata": {},
   "outputs": [
    {
     "data": {
      "text/plain": [
       "frankmatrix (generic function with 1 method)"
      ]
     },
     "execution_count": 1,
     "metadata": {},
     "output_type": "execute_result"
    }
   ],
   "source": [
    "function frankmatrix(n)\n",
    "    A = zeros(n,n)\n",
    "    for i=1:n\n",
    "        for j=1:n\n",
    "            if j == i-1\n",
    "                A[i,j] = n + 1 - i\n",
    "            elseif j ≥ i\n",
    "                A[i,j] = n + 1 - j\n",
    "            end\n",
    "        end\n",
    "    end\n",
    "    A\n",
    "end"
   ]
  },
  {
   "cell_type": "code",
   "execution_count": 52,
   "metadata": {},
   "outputs": [
    {
     "data": {
      "text/plain": [
       "5-element Array{Any,1}:\n",
       " -10.824186284085345   \n",
       "  -5.219494599242393   \n",
       "  -0.21504500420476302 \n",
       "   0.012795374687473795\n",
       "   0.022829454651752727"
      ]
     },
     "execution_count": 52,
     "metadata": {},
     "output_type": "execute_result"
    }
   ],
   "source": [
    "using LinearAlgebra\n",
    "result1 = []\n",
    "for n = 10:5:30\n",
    "    v1 = inv(frankmatrix(n))*ones(n)\n",
    "    v2 = frankmatrix(n) \\ ones(n)\n",
    "    diff = v1-v2\n",
    "    push!(result1, log10(norm(diff)))\n",
    "end\n",
    "result1"
   ]
  },
  {
   "cell_type": "code",
   "execution_count": 53,
   "metadata": {},
   "outputs": [
    {
     "data": {
      "text/plain": [
       "5-element Array{Any,1}:\n",
       " -8.198056834972798 \n",
       " -2.5164548020316007\n",
       "  1.8864586222127389\n",
       "  2.0831544469620638\n",
       "  2.1830267681996016"
      ]
     },
     "execution_count": 53,
     "metadata": {},
     "output_type": "execute_result"
    }
   ],
   "source": [
    "result2 = []\n",
    "for i in 10:5:30\n",
    "    push!(result2, log10(eps()*cond(frankmatrix(i))))\n",
    "end\n",
    "result2"
   ]
  },
  {
   "cell_type": "code",
   "execution_count": 68,
   "metadata": {},
   "outputs": [
    {
     "name": "stdout",
     "output_type": "stream",
     "text": [
      "\u001b[32m\u001b[1m Resolving\u001b[22m\u001b[39m package versions...\n",
      "\u001b[32m\u001b[1m  Updating\u001b[22m\u001b[39m `/opt/julia/environments/v1.2/Project.toml`\n",
      "\u001b[90m [no changes]\u001b[39m\n",
      "\u001b[32m\u001b[1m  Updating\u001b[22m\u001b[39m `/opt/julia/environments/v1.2/Manifest.toml`\n",
      "\u001b[90m [no changes]\u001b[39m\n"
     ]
    }
   ],
   "source": [
    "import Pkg; Pkg.add(\"LaTeXStrings\")"
   ]
  },
  {
   "cell_type": "code",
   "execution_count": 80,
   "metadata": {},
   "outputs": [
    {
     "data": {
      "image/svg+xml": [
       "<?xml version=\"1.0\" encoding=\"utf-8\"?>\n",
       "<svg xmlns=\"http://www.w3.org/2000/svg\" xmlns:xlink=\"http://www.w3.org/1999/xlink\" width=\"600\" height=\"400\" viewBox=\"0 0 2400 1600\">\n",
       "<defs>\n",
       "  <clipPath id=\"clip1600\">\n",
       "    <rect x=\"0\" y=\"0\" width=\"2400\" height=\"1600\"/>\n",
       "  </clipPath>\n",
       "</defs>\n",
       "<polygon clip-path=\"url(#clip1600)\" points=\"\n",
       "0,1600 2400,1600 2400,0 0,0 \n",
       "  \" fill=\"#ffffff\" fill-rule=\"evenodd\" fill-opacity=\"1\"/>\n",
       "<defs>\n",
       "  <clipPath id=\"clip1601\">\n",
       "    <rect x=\"480\" y=\"0\" width=\"1681\" height=\"1600\"/>\n",
       "  </clipPath>\n",
       "</defs>\n",
       "<polygon clip-path=\"url(#clip1600)\" points=\"\n",
       "203.721,1425.62 2352.76,1425.62 2352.76,47.2441 203.721,47.2441 \n",
       "  \" fill=\"#ffffff\" fill-rule=\"evenodd\" fill-opacity=\"1\"/>\n",
       "<defs>\n",
       "  <clipPath id=\"clip1602\">\n",
       "    <rect x=\"203\" y=\"47\" width=\"2150\" height=\"1379\"/>\n",
       "  </clipPath>\n",
       "</defs>\n",
       "<polyline clip-path=\"url(#clip1602)\" style=\"stroke:#000000; stroke-width:2; stroke-opacity:0.1; fill:none\" points=\"\n",
       "  264.542,1425.62 264.542,47.2441 \n",
       "  \"/>\n",
       "<polyline clip-path=\"url(#clip1602)\" style=\"stroke:#000000; stroke-width:2; stroke-opacity:0.1; fill:none\" points=\"\n",
       "  771.39,1425.62 771.39,47.2441 \n",
       "  \"/>\n",
       "<polyline clip-path=\"url(#clip1602)\" style=\"stroke:#000000; stroke-width:2; stroke-opacity:0.1; fill:none\" points=\"\n",
       "  1278.24,1425.62 1278.24,47.2441 \n",
       "  \"/>\n",
       "<polyline clip-path=\"url(#clip1602)\" style=\"stroke:#000000; stroke-width:2; stroke-opacity:0.1; fill:none\" points=\"\n",
       "  1785.09,1425.62 1785.09,47.2441 \n",
       "  \"/>\n",
       "<polyline clip-path=\"url(#clip1602)\" style=\"stroke:#000000; stroke-width:2; stroke-opacity:0.1; fill:none\" points=\"\n",
       "  2291.93,1425.62 2291.93,47.2441 \n",
       "  \"/>\n",
       "<polyline clip-path=\"url(#clip1602)\" style=\"stroke:#000000; stroke-width:2; stroke-opacity:0.1; fill:none\" points=\"\n",
       "  203.721,1204.24 2352.76,1204.24 \n",
       "  \"/>\n",
       "<polyline clip-path=\"url(#clip1602)\" style=\"stroke:#000000; stroke-width:2; stroke-opacity:0.1; fill:none\" points=\"\n",
       "  203.721,904.326 2352.76,904.326 \n",
       "  \"/>\n",
       "<polyline clip-path=\"url(#clip1602)\" style=\"stroke:#000000; stroke-width:2; stroke-opacity:0.1; fill:none\" points=\"\n",
       "  203.721,604.411 2352.76,604.411 \n",
       "  \"/>\n",
       "<polyline clip-path=\"url(#clip1602)\" style=\"stroke:#000000; stroke-width:2; stroke-opacity:0.1; fill:none\" points=\"\n",
       "  203.721,304.496 2352.76,304.496 \n",
       "  \"/>\n",
       "<polyline clip-path=\"url(#clip1600)\" style=\"stroke:#000000; stroke-width:4; stroke-opacity:1; fill:none\" points=\"\n",
       "  203.721,1425.62 2352.76,1425.62 \n",
       "  \"/>\n",
       "<polyline clip-path=\"url(#clip1600)\" style=\"stroke:#000000; stroke-width:4; stroke-opacity:1; fill:none\" points=\"\n",
       "  203.721,1425.62 203.721,47.2441 \n",
       "  \"/>\n",
       "<polyline clip-path=\"url(#clip1600)\" style=\"stroke:#000000; stroke-width:4; stroke-opacity:1; fill:none\" points=\"\n",
       "  264.542,1425.62 264.542,1404.94 \n",
       "  \"/>\n",
       "<polyline clip-path=\"url(#clip1600)\" style=\"stroke:#000000; stroke-width:4; stroke-opacity:1; fill:none\" points=\"\n",
       "  771.39,1425.62 771.39,1404.94 \n",
       "  \"/>\n",
       "<polyline clip-path=\"url(#clip1600)\" style=\"stroke:#000000; stroke-width:4; stroke-opacity:1; fill:none\" points=\"\n",
       "  1278.24,1425.62 1278.24,1404.94 \n",
       "  \"/>\n",
       "<polyline clip-path=\"url(#clip1600)\" style=\"stroke:#000000; stroke-width:4; stroke-opacity:1; fill:none\" points=\"\n",
       "  1785.09,1425.62 1785.09,1404.94 \n",
       "  \"/>\n",
       "<polyline clip-path=\"url(#clip1600)\" style=\"stroke:#000000; stroke-width:4; stroke-opacity:1; fill:none\" points=\"\n",
       "  2291.93,1425.62 2291.93,1404.94 \n",
       "  \"/>\n",
       "<polyline clip-path=\"url(#clip1600)\" style=\"stroke:#000000; stroke-width:4; stroke-opacity:1; fill:none\" points=\"\n",
       "  203.721,1204.24 235.956,1204.24 \n",
       "  \"/>\n",
       "<polyline clip-path=\"url(#clip1600)\" style=\"stroke:#000000; stroke-width:4; stroke-opacity:1; fill:none\" points=\"\n",
       "  203.721,904.326 235.956,904.326 \n",
       "  \"/>\n",
       "<polyline clip-path=\"url(#clip1600)\" style=\"stroke:#000000; stroke-width:4; stroke-opacity:1; fill:none\" points=\"\n",
       "  203.721,604.411 235.956,604.411 \n",
       "  \"/>\n",
       "<polyline clip-path=\"url(#clip1600)\" style=\"stroke:#000000; stroke-width:4; stroke-opacity:1; fill:none\" points=\"\n",
       "  203.721,304.496 235.956,304.496 \n",
       "  \"/>\n",
       "<g clip-path=\"url(#clip1600)\">\n",
       "<text style=\"fill:#000000; fill-opacity:1; font-family:Arial,Helvetica Neue,Helvetica,sans-serif; font-size:48px; text-anchor:middle;\" transform=\"rotate(0, 264.542, 1479.62)\" x=\"264.542\" y=\"1479.62\">10</text>\n",
       "</g>\n",
       "<g clip-path=\"url(#clip1600)\">\n",
       "<text style=\"fill:#000000; fill-opacity:1; font-family:Arial,Helvetica Neue,Helvetica,sans-serif; font-size:48px; text-anchor:middle;\" transform=\"rotate(0, 771.39, 1479.62)\" x=\"771.39\" y=\"1479.62\">15</text>\n",
       "</g>\n",
       "<g clip-path=\"url(#clip1600)\">\n",
       "<text style=\"fill:#000000; fill-opacity:1; font-family:Arial,Helvetica Neue,Helvetica,sans-serif; font-size:48px; text-anchor:middle;\" transform=\"rotate(0, 1278.24, 1479.62)\" x=\"1278.24\" y=\"1479.62\">20</text>\n",
       "</g>\n",
       "<g clip-path=\"url(#clip1600)\">\n",
       "<text style=\"fill:#000000; fill-opacity:1; font-family:Arial,Helvetica Neue,Helvetica,sans-serif; font-size:48px; text-anchor:middle;\" transform=\"rotate(0, 1785.09, 1479.62)\" x=\"1785.09\" y=\"1479.62\">25</text>\n",
       "</g>\n",
       "<g clip-path=\"url(#clip1600)\">\n",
       "<text style=\"fill:#000000; fill-opacity:1; font-family:Arial,Helvetica Neue,Helvetica,sans-serif; font-size:48px; text-anchor:middle;\" transform=\"rotate(0, 2291.93, 1479.62)\" x=\"2291.93\" y=\"1479.62\">30</text>\n",
       "</g>\n",
       "<g clip-path=\"url(#clip1600)\">\n",
       "<text style=\"fill:#000000; fill-opacity:1; font-family:Arial,Helvetica Neue,Helvetica,sans-serif; font-size:48px; text-anchor:end;\" transform=\"rotate(0, 179.721, 1221.74)\" x=\"179.721\" y=\"1221.74\">-9</text>\n",
       "</g>\n",
       "<g clip-path=\"url(#clip1600)\">\n",
       "<text style=\"fill:#000000; fill-opacity:1; font-family:Arial,Helvetica Neue,Helvetica,sans-serif; font-size:48px; text-anchor:end;\" transform=\"rotate(0, 179.721, 921.826)\" x=\"179.721\" y=\"921.826\">-6</text>\n",
       "</g>\n",
       "<g clip-path=\"url(#clip1600)\">\n",
       "<text style=\"fill:#000000; fill-opacity:1; font-family:Arial,Helvetica Neue,Helvetica,sans-serif; font-size:48px; text-anchor:end;\" transform=\"rotate(0, 179.721, 621.911)\" x=\"179.721\" y=\"621.911\">-3</text>\n",
       "</g>\n",
       "<g clip-path=\"url(#clip1600)\">\n",
       "<text style=\"fill:#000000; fill-opacity:1; font-family:Arial,Helvetica Neue,Helvetica,sans-serif; font-size:48px; text-anchor:end;\" transform=\"rotate(0, 179.721, 321.996)\" x=\"179.721\" y=\"321.996\">0</text>\n",
       "</g>\n",
       "<g clip-path=\"url(#clip1600)\">\n",
       "<text style=\"fill:#000000; fill-opacity:1; font-family:Arial,Helvetica Neue,Helvetica,sans-serif; font-size:66px; text-anchor:middle;\" transform=\"rotate(0, 1278.24, 1559.48)\" x=\"1278.24\" y=\"1559.48\">n</text>\n",
       "</g>\n",
       "<g clip-path=\"url(#clip1600)\">\n",
       "<text style=\"fill:#000000; fill-opacity:1; font-family:Arial,Helvetica Neue,Helvetica,sans-serif; font-size:66px; text-anchor:middle;\" transform=\"rotate(-90, 89.2861, 736.431)\" x=\"89.2861\" y=\"736.431\">log^10{condition number or the norm of diffence}</text>\n",
       "</g>\n",
       "<circle clip-path=\"url(#clip1602)\" style=\"fill:#000000; stroke:none; fill-opacity:1\" cx=\"264.542\" cy=\"1386.61\" r=\"18\"/>\n",
       "<circle clip-path=\"url(#clip1602)\" style=\"fill:#009af9; stroke:none; fill-opacity:1\" cx=\"264.542\" cy=\"1386.61\" r=\"14\"/>\n",
       "<circle clip-path=\"url(#clip1602)\" style=\"fill:#000000; stroke:none; fill-opacity:1\" cx=\"771.39\" cy=\"826.297\" r=\"18\"/>\n",
       "<circle clip-path=\"url(#clip1602)\" style=\"fill:#009af9; stroke:none; fill-opacity:1\" cx=\"771.39\" cy=\"826.297\" r=\"14\"/>\n",
       "<circle clip-path=\"url(#clip1602)\" style=\"fill:#000000; stroke:none; fill-opacity:1\" cx=\"1278.24\" cy=\"325.994\" r=\"18\"/>\n",
       "<circle clip-path=\"url(#clip1602)\" style=\"fill:#009af9; stroke:none; fill-opacity:1\" cx=\"1278.24\" cy=\"325.994\" r=\"14\"/>\n",
       "<circle clip-path=\"url(#clip1602)\" style=\"fill:#000000; stroke:none; fill-opacity:1\" cx=\"1785.09\" cy=\"303.216\" r=\"18\"/>\n",
       "<circle clip-path=\"url(#clip1602)\" style=\"fill:#009af9; stroke:none; fill-opacity:1\" cx=\"1785.09\" cy=\"303.216\" r=\"14\"/>\n",
       "<circle clip-path=\"url(#clip1602)\" style=\"fill:#000000; stroke:none; fill-opacity:1\" cx=\"2291.93\" cy=\"302.213\" r=\"18\"/>\n",
       "<circle clip-path=\"url(#clip1602)\" style=\"fill:#009af9; stroke:none; fill-opacity:1\" cx=\"2291.93\" cy=\"302.213\" r=\"14\"/>\n",
       "<circle clip-path=\"url(#clip1602)\" style=\"fill:#000000; stroke:none; fill-opacity:1\" cx=\"264.542\" cy=\"1124.07\" r=\"18\"/>\n",
       "<circle clip-path=\"url(#clip1602)\" style=\"fill:#e26f46; stroke:none; fill-opacity:1\" cx=\"264.542\" cy=\"1124.07\" r=\"14\"/>\n",
       "<circle clip-path=\"url(#clip1602)\" style=\"fill:#000000; stroke:none; fill-opacity:1\" cx=\"771.39\" cy=\"556.07\" r=\"18\"/>\n",
       "<circle clip-path=\"url(#clip1602)\" style=\"fill:#e26f46; stroke:none; fill-opacity:1\" cx=\"771.39\" cy=\"556.07\" r=\"14\"/>\n",
       "<circle clip-path=\"url(#clip1602)\" style=\"fill:#000000; stroke:none; fill-opacity:1\" cx=\"1278.24\" cy=\"115.903\" r=\"18\"/>\n",
       "<circle clip-path=\"url(#clip1602)\" style=\"fill:#e26f46; stroke:none; fill-opacity:1\" cx=\"1278.24\" cy=\"115.903\" r=\"14\"/>\n",
       "<circle clip-path=\"url(#clip1602)\" style=\"fill:#000000; stroke:none; fill-opacity:1\" cx=\"1785.09\" cy=\"96.2391\" r=\"18\"/>\n",
       "<circle clip-path=\"url(#clip1602)\" style=\"fill:#e26f46; stroke:none; fill-opacity:1\" cx=\"1785.09\" cy=\"96.2391\" r=\"14\"/>\n",
       "<circle clip-path=\"url(#clip1602)\" style=\"fill:#000000; stroke:none; fill-opacity:1\" cx=\"2291.93\" cy=\"86.2547\" r=\"18\"/>\n",
       "<circle clip-path=\"url(#clip1602)\" style=\"fill:#e26f46; stroke:none; fill-opacity:1\" cx=\"2291.93\" cy=\"86.2547\" r=\"14\"/>\n",
       "<polygon clip-path=\"url(#clip1600)\" points=\"\n",
       "1989.93,1281.62 2280.76,1281.62 2280.76,1100.18 1989.93,1100.18 \n",
       "  \" fill=\"#ffffff\" fill-rule=\"evenodd\" fill-opacity=\"1\"/>\n",
       "<polyline clip-path=\"url(#clip1600)\" style=\"stroke:#000000; stroke-width:4; stroke-opacity:1; fill:none\" points=\"\n",
       "  1989.93,1281.62 2280.76,1281.62 2280.76,1100.18 1989.93,1100.18 1989.93,1281.62 \n",
       "  \"/>\n",
       "<circle clip-path=\"url(#clip1600)\" style=\"fill:#000000; stroke:none; fill-opacity:1\" cx=\"2097.93\" cy=\"1160.66\" r=\"25\"/>\n",
       "<circle clip-path=\"url(#clip1600)\" style=\"fill:#009af9; stroke:none; fill-opacity:1\" cx=\"2097.93\" cy=\"1160.66\" r=\"21\"/>\n",
       "<g clip-path=\"url(#clip1600)\">\n",
       "<text style=\"fill:#000000; fill-opacity:1; font-family:Arial,Helvetica Neue,Helvetica,sans-serif; font-size:48px; text-anchor:start;\" transform=\"rotate(0, 2181.93, 1178.16)\" x=\"2181.93\" y=\"1178.16\">y1</text>\n",
       "</g>\n",
       "<circle clip-path=\"url(#clip1600)\" style=\"fill:#000000; stroke:none; fill-opacity:1\" cx=\"2097.93\" cy=\"1221.14\" r=\"25\"/>\n",
       "<circle clip-path=\"url(#clip1600)\" style=\"fill:#e26f46; stroke:none; fill-opacity:1\" cx=\"2097.93\" cy=\"1221.14\" r=\"21\"/>\n",
       "<g clip-path=\"url(#clip1600)\">\n",
       "<text style=\"fill:#000000; fill-opacity:1; font-family:Arial,Helvetica Neue,Helvetica,sans-serif; font-size:48px; text-anchor:start;\" transform=\"rotate(0, 2181.93, 1238.64)\" x=\"2181.93\" y=\"1238.64\">y2</text>\n",
       "</g>\n",
       "</svg>\n"
      ]
     },
     "execution_count": 80,
     "metadata": {},
     "output_type": "execute_result"
    }
   ],
   "source": [
    "using LaTeXStrings\n",
    "x_axis = [10,15,20,25,30]\n",
    "scatter(x_axis, convert(Array{Float64,1},result1),legend = :bottomright)\n",
    "scatter!(x_axis, convert(Array{Float64,1},result2))\n",
    "xlabel!(\"n\")\n",
    "ylabel!(\"log^10{condition number or the norm of diffence}\")"
   ]
  },
  {
   "cell_type": "markdown",
   "metadata": {},
   "source": [
    "***Solution:***    \n",
    "The algorithm used for `\\` is stable since the norm of error(<font color = blue>y1</font> in the graph) is smaller than the condition nunbers(<font color = red>y2</font> in the graph). Some of the points in the graph have negative y values because the norms of difference and the condition numbers are close to 0, and it brings the log to negative numbers. "
   ]
  },
  {
   "cell_type": "markdown",
   "metadata": {},
   "source": [
    "## Problem 8\n",
    "\n",
    "\n",
    "Consider the function $f(x) = (x^4 - 2x^3 - x^2 + 3x - 1)\\operatorname{e}^{-x^2/4}$. Implement the gradient descent algorithm for finding the minimum of this function. \n",
    "\n",
    "<img src=\"polynomial-minimize.svg\" style=\"float: right;\" width=450px>\n",
    "\n",
    " * If the learning rate is $\\epsilon = 0.1$, which values of\n",
    "      $x_0$ have the property that $f(x_n)$ is close to the global\n",
    "      minimum of $f$ when $n$ is large? \n",
    " * Is there a starting value $x_0$ between $-2$ and $-1$ and a\n",
    "      learning rate $\\epsilon$ such that the gradient descent\n",
    "      algorithm does not reach the global minimum of $f$? Use\n",
    "      the graph for intuition.\n"
   ]
  },
  {
   "cell_type": "code",
   "execution_count": null,
   "metadata": {},
   "outputs": [],
   "source": []
  },
  {
   "cell_type": "markdown",
   "metadata": {},
   "source": [
    "## Problem 9\n",
    "\n",
    "Calculate, by hand, the gradient and Hessian of the function shown below. Show that the values returned by the ForwardDiff package are correct.\n"
   ]
  },
  {
   "cell_type": "code",
   "execution_count": 7,
   "metadata": {},
   "outputs": [
    {
     "name": "stdout",
     "output_type": "stream",
     "text": [
      "\u001b[32m\u001b[1m Resolving\u001b[22m\u001b[39m package versions...\n",
      "\u001b[32m\u001b[1m  Updating\u001b[22m\u001b[39m `/opt/julia/environments/v1.2/Project.toml`\n",
      " \u001b[90m [f6369f11]\u001b[39m\u001b[92m + ForwardDiff v0.10.3\u001b[39m\n",
      "\u001b[32m\u001b[1m  Updating\u001b[22m\u001b[39m `/opt/julia/environments/v1.2/Manifest.toml`\n",
      "\u001b[90m [no changes]\u001b[39m\n"
     ]
    }
   ],
   "source": [
    "import Pkg; Pkg.add(\"ForwardDiff\")"
   ]
  },
  {
   "cell_type": "code",
   "execution_count": 19,
   "metadata": {
    "collapsed": false,
    "inputHidden": false,
    "jupyter": {
     "outputs_hidden": false
    },
    "outputHidden": false
   },
   "outputs": [
    {
     "name": "stdout",
     "output_type": "stream",
     "text": [
      "[3.0, -8.5]"
     ]
    },
    {
     "data": {
      "text/plain": [
       "2×2 Array{Float64,2}:\n",
       " 2.0  0.0\n",
       " 0.0  2.0"
      ]
     },
     "execution_count": 19,
     "metadata": {},
     "output_type": "execute_result"
    }
   ],
   "source": [
    "using ForwardDiff\n",
    "f(x,y) = x^2 + y^2 - 2y\n",
    "f(v::Vector) = f(v...) # equivalent to f(v[1],v[2]) \n",
    "x = [1.5,-3.25]\n",
    "print(ForwardDiff.gradient(f,x))\n",
    "ForwardDiff.hessian(f,x)"
   ]
  },
  {
   "cell_type": "markdown",
   "metadata": {},
   "source": [
    "***Solution:***    \n",
    "\n",
    "$\\nabla(f) = \\begin{vmatrix}\\frac{\\partial f}{\\partial x}\\\\\\frac{\\partial f}{\\partial y}\\end{vmatrix} = \\begin{vmatrix}2x\\\\2y-2\\\\\\end{vmatrix} = \\begin{vmatrix}3\\\\-8.5\\\\\\end{vmatrix}$    \n",
    "$H_{f} = \\begin{vmatrix}\\frac{\\partial^2 f}{\\partial x^2} & \\frac{\\partial^2 f}{\\partial x\\partial y}\\\\\\frac{\\partial^2 f}{\\partial y\\partial x} & \\frac{\\partial^2 f}{\\partial y^2}\\end{vmatrix} = \\begin{vmatrix}2&0\\\\0&2\\\\\\end{vmatrix}$"
   ]
  },
  {
   "cell_type": "markdown",
   "metadata": {},
   "source": [
    "## Problem 10\n",
    "\n",
    "Consider the following PRNG (which was actually widely used in the\n",
    "early 1970s): we begin with an odd positive integer $a_1$ less than\n",
    "$2^{31}$ and for all $n \\geq 2$, we define $a_n$ to be the\n",
    "remainder when dividing $65539a_{n-1}$ by $2^{31}$.\n",
    "\n",
    "Use Julia to calculate $9a_{3n+1} - 6 a_{3n+2} + a_{3n+3}$ for the\n",
    "first $10^6$ values of $n$, and show that there are only\n",
    "$\\textit{15}$ unique values in the resulting list (!). Explain what\n",
    "you would see if you plotted many points of the form\n",
    "$(a_{3n+1},a_{3n+2},a_{3n+3})$ in three-dimensional space."
   ]
  },
  {
   "cell_type": "code",
   "execution_count": 48,
   "metadata": {},
   "outputs": [
    {
     "data": {
      "text/plain": [
       "15"
      ]
     },
     "execution_count": 48,
     "metadata": {},
     "output_type": "execute_result"
    }
   ],
   "source": [
    "a = [rand(1:2:2^31)]\n",
    "for i = 1 : 4000000\n",
    "    push!(a, mod(65539a[end], 2^31))\n",
    "end\n",
    "\n",
    "l = []\n",
    "for i = 1 : 1000000\n",
    "    push!(l, 9 * a[3i+1] - 6 * a[3i+2] + a[3i+3])\n",
    "end\n",
    "length(Set(l))"
   ]
  },
  {
   "cell_type": "markdown",
   "metadata": {},
   "source": [
    "***Solution:***\n",
    "since f(x,y,z) = 9x - 6y + z, and there are only 15 unique values for the f, thus we could have 15 planes in the 3D space. "
   ]
  }
 ],
 "metadata": {
  "kernelspec": {
   "display_name": "Julia 1.2.0",
   "language": "julia",
   "name": "julia-1.2"
  },
  "language_info": {
   "file_extension": ".jl",
   "mimetype": "application/julia",
   "name": "julia",
   "version": "1.2.0"
  },
  "nteract": {
   "version": "0.14.5"
  }
 },
 "nbformat": 4,
 "nbformat_minor": 4
}
