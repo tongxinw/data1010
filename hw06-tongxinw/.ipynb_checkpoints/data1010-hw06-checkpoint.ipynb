{
 "cells": [
  {
   "cell_type": "markdown",
   "metadata": {},
   "source": [
    "<style>\n",
    "@media print\n",
    "{\n",
    "h2 {page-break-before:always}\n",
    "}\n",
    "</style>\n",
    "\n",
    "# Homework 06\n",
    "\n",
    "### Brown University  \n",
    "### DATA 1010  \n",
    "### Fall 2019"
   ]
  },
  {
   "cell_type": "markdown",
   "metadata": {},
   "source": [
    "## Problem 1\n",
    "\n",
    "Generate a random $n \\times d$ feature matrix `X`, and then change its last column so as to induce an approximate (but not exact) linear dependence relationship involving all of the last three columns. Then define the response vector `y` to be an approximate linear combination of the first two columns. \n",
    "\n",
    "Let $d = 10$, and explore the behavior of the coefficient vector `X \\ y` for various values of $n$ (including ones less than $d$, equal to $d$ and greater than $d$). Show how lasso and ridge regression mitigate the problems you observe.\n",
    "\n",
    "Hint: make bar plots of the coefficients you obtain, following the example in [Data Gymnasia](https://mathigon.org/course/machine-learning/a-regression-example-linear-models). "
   ]
  },
  {
   "cell_type": "markdown",
   "metadata": {},
   "source": [
    "## Problem 2\n",
    "\n",
    "Suppose that for each $i = 1,2,\\ldots, n$, the random vector $\\mathbf{X}_i$ is chosen from a distribution on $\\mathbb{R}^p$ and then $Y_i$ is chosen from the Bernoulli distribution with probability $r(\\mathbf{X}_i)$, where $r: \\mathbb{R}^p \\to [0,1]$ is some function.\n",
    "\n",
    "(a) Given $\\mathbf{y} \\in \\{0,1\\}^n$, find $\\mathbb{P}( (Y_1, \\ldots, Y_n) =\n",
    "    \\mathbf{y} | \\mathbf{X}_1, \\mathbf{X}_2, \\ldots, \\mathbf{X}_n)$.\n",
    "\n",
    "(b) Suppose that multiple candidate $r$'s are proposed. Show that\n",
    "    finding the one which maximizes your answer to (a) is the same as\n",
    "    finding the one that minimizes\n",
    "    $$\\sum_{i=1}^{n} \\left[y_i \\log \\frac{1}{r(X_i)} +(1-y_i)\\log\\frac{1}{1-r(X_i)}\\right]$$"
   ]
  },
  {
   "cell_type": "markdown",
   "metadata": {},
   "source": [
    "## Problem 3\n",
    "\n",
    "Train a QDA classifier for identifying a car as American or Japanese based on its weight and MPG rating. Use the `cars` dataset from the `VegaDatasets` package. Show the classification regions in different colors.   "
   ]
  },
  {
   "cell_type": "code",
   "execution_count": null,
   "metadata": {},
   "outputs": [],
   "source": [
    "using VegaDatasets, Plots, DataFrames\n",
    "D = DataFrame(dataset(\"cars\"))\n",
    "cars = [((x,y),c) for (x,y,c) in zip(D[:,:Miles_per_Gallon],\n",
    "                                     D[:,:Weight_in_lbs],\n",
    "                                     D[:,:Origin]) \n",
    "           if !any(ismissing.([x,y,c])) && c ≠ \"Europe\"]\n",
    "x₁s = [x₁ for ((x₁,x₂),y) in cars]\n",
    "x₂s = [x₂ for ((x₁,x₂),y) in cars]\n",
    "ys = [y for ((x₁,x₂),y) in cars]\n",
    "scatter(x₁s,x₂s,group=ys)"
   ]
  },
  {
   "cell_type": "markdown",
   "metadata": {},
   "source": [
    "## Problem 4\n",
    "\n",
    "Train a classifier based on kernel density estimation for identifying a car as American or Japanese based on its weight and MPG rating. Use the `cars` dataset from the `VegaDatasets` package. Show the classification regions in different colors.   "
   ]
  },
  {
   "cell_type": "markdown",
   "metadata": {},
   "source": [
    "## Problem 5\n",
    "\n",
    "(a) Serialize each of the first 1000 images in the MNIST data set and compute the pairwise Euclidean distances between the resulting vectors. Make a histogram of the resulting list of a million numbers. \n",
    "\n",
    "(b) Repeat the exercise from (a) with 1000 white-noise images (`rand(28,28)`). "
   ]
  },
  {
   "cell_type": "code",
   "execution_count": null,
   "metadata": {},
   "outputs": [],
   "source": [
    "using Pkg; Pkg.add(\"JLD\")",
    "using JLD\n",
    "images = load(\"mnist.jld\")[\"images\"]"
   ]
  },
  {
   "cell_type": "code",
   "execution_count": null,
   "metadata": {},
   "outputs": [],
   "source": []
  }
 ],
 "metadata": {
  "kernelspec": {
   "display_name": "Julia 1.2.0",
   "language": "julia",
   "name": "julia-1.2"
  },
  "language_info": {
   "file_extension": ".jl",
   "mimetype": "application/julia",
   "name": "julia",
   "version": "1.2.0"
  }
 },
 "nbformat": 4,
 "nbformat_minor": 4
}
