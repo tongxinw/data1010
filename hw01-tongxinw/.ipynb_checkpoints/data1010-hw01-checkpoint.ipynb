{
 "cells": [
  {
   "cell_type": "markdown",
   "metadata": {},
   "source": [
    "## Problem 1   \n",
    "Consider a table with 3 columns and 1000 rows, some of whose entries are\n",
    "missing. Denote by $A$ the set of rows with an entry in the first\n",
    "column, $B$ the set of rows with an entry in the second column, and $C$\n",
    "the set of rows with an entry in the third column. Use set notation\n",
    "(intersections, unions, and complements) to represent the following sets\n",
    "in terms of $A$, $B$, and $C$.\n",
    "\n",
    "(i) The set of rows with no missing entries\n",
    "\n",
    "(ii) The set of rows with all missing entries\n",
    "\n",
    "(iii) The set of rows with at least one entry present\n",
    "\n",
    "(iv) The set of rows with an entry in the first column and exactly one\n",
    "    other entry\n",
    "    \n",
    "    "
   ]
  },
  {
   "cell_type": "markdown",
   "metadata": {},
   "source": [
    "*(DONE)Solution:*  \n",
    "(i)  $ A\\cap B\\cap C $    \n",
    "(ii) $ \\complement(A\\cup B\\cup C)$     \n",
    "(iii) $ A\\cup B\\cup C $  \n",
    "(iv) <font color = green>NOTE:'-' is union with complement</font>  \n",
    "$ A\\cup ((\\complement(B \\cap C))\\cap(B\\cup C)) $  \n",
    "\\newpage"
   ]
  },
  {
   "cell_type": "markdown",
   "metadata": {},
   "source": [
    "## Problem 2 \n",
    "\n",
    "Each of 68 people is interviewed and scored on a scale from 0 to 10\n",
    "  in three different categories. A composite score is obtained for\n",
    "  each person by averaging the person's category scores. These data\n",
    "  are arranged into a $68 \\times 4$ matrix $X$, so that each row consists\n",
    "  of a particular interviewee's category scores and composite score.   \n",
    "Find the determinant of $X' X$. "
   ]
  },
  {
   "cell_type": "markdown",
   "metadata": {},
   "source": [
    "*(TODO)Solution:*  \n",
    "see PDF  \n",
    "\\newpage"
   ]
  },
  {
   "cell_type": "markdown",
   "metadata": {},
   "source": [
    "## Problem 3\n",
    "\n",
    "(a) Does there exist a linearly dependent list of 10 vectors with the property that every sublist of length 9 is linearly independent?\n",
    "\n",
    "(b) Does there exist a linearly dependent list of 10 vectors with the property that there are exactly 21 ways to remove two vectors from the list to obtain a linearly independent list?"
   ]
  },
  {
   "cell_type": "markdown",
   "metadata": {},
   "source": [
    "*(DONE)Solution:*  \n",
    "(a)Yes.  \n",
    "The list could be {v1, v2, ...,v9, f(v1,...,v9)}, then every sublist of length 9 will be linear independent.  \n",
    "(b)Yes.    \n",
    "Suppose the groups are {v1,v2,f(v1,v2)} and {v4,v5,...,v9,f(v4,v5,...v9)}, then there are 3*7 = 21 ways to remove two vectors to make the remaining list linearly independent.  \n",
    "\\newpage"
   ]
  },
  {
   "cell_type": "markdown",
   "metadata": {},
   "source": [
    "## Problem 4\n",
    "\n",
    "A **pangram** is a sentence which contains every letter (they are useful for demonstrating fonts). *The quick brown fox jumps over the lazy dog* is a famous example of a pangram. \n",
    "\n",
    "Write a Julia function to check whether a given string is a pangram. \n",
    "\n",
    "Hint: you can get the alphabet as a `Set` by doing `Set('a':'z')`. Also, note the characters (single quotes) and strings (double quotes) are different in Julia. "
   ]
  },
  {
   "cell_type": "code",
   "execution_count": null,
   "metadata": {
    "lines_to_next_cell": 2
   },
   "outputs": [],
   "source": [
    "\n",
    "s1 = \"The quick brown fox jumps over the lazy dog\"\n",
    "s2 = \"The quick brown fox jumps the lazy dog\"\n",
    "\n",
    "function checkPangram(s)\n",
    "    collect(s) #change string to array of characters\n",
    "    \n",
    "    for chr in Set('a':'z')\n",
    "        if !(chr in collect(s))\n",
    "            return false\n",
    "        end\n",
    "    end\n",
    "    return true\n",
    "end\n",
    "\n",
    "#checkPangram(s1)\n"
   ]
  },
  {
   "cell_type": "markdown",
   "metadata": {},
   "source": [
    "## Problem 5\n",
    "\n",
    "In the game of Set, every card has four features:\n",
    "\n",
    "**Number**. 1, 2, or 3  \n",
    "**Color**. purple, red, or green  \n",
    "**Shape**. oval, squiggle, or diamond  \n",
    "**Shading**. striped, solid, or outline\n",
    "\n",
    "![set](set.png)\n",
    "\n",
    "There is exactly one card for every possible combination of attributes (for example there's exactly one card with 2 red solid squiggles), so there are 81 cards in total. \n",
    "\n",
    "Three cards are said to form a set if for each feature, the three cards are either all the same or all different. For example, the cards shown above form a set because their shapes are all different, their shading is all different, the numbers are all different, and the colors are all different. \n",
    "\n",
    "The cards are shuffled, and 12 cards are dealt face up for all players to see. If any three of the cards forms a set, then the first player to identify a set gets to pick up those cards, and the cards are replaced from the deck. If no sets are present, then three additional cards are dealt. If a set is identified at 15 cards, then the three removed cards are not replaced, and the count goes back down to 12. If no sets are present even at 15 cards, then three more cards are dealt to get up to 18, and so on. The game ends when the deck is empty and there are no more sets. \n",
    "\n",
    "Write a program to simulate this game, play it 10,000 times, and find the proportion of games in which 18 cards appear at some point.\n",
    "\n",
    "**Hints:**\n",
    "\n",
    "(1) You can represent cards either as 4-tuples of `Int`s (like (1, 2, 1, 1)) or as a new type.  \n",
    "(2) It's going to be important to break your program up into small, dedicated functions. For example, you can write a function for returning the 81 total cards, a function for shuffling the deck, a function which takes three cards and returns true or false depending on whether they form a set, a function for dealing cards, a function for finding all the sets on the board, a function which takes a single turn by randomly selecting one of the available sets or adding three cards to the board if there are no sets, and finally a function which puts those functions together to play the game.  \n",
    "(3) Some Julia tips: \n",
    "  - `randperm` generates random permutations, and you can index an array with the resulting list to shuffle it. \n",
    "  - `vcat` concatenates two arrays.\n",
    "  - You probably want to use a four-dimensional array comprehension to generate the list of all cards, and you can index it with a colon to flatten it.\n",
    "  - To remove elements at positions `i`, `j`, and `k` from an array `A`, you can do `A[setdiff(1:end, (i,j,k))]`\n",
    "  - You can start with an empty array and grow it one element at a time inside a loop using this pattern:\n",
    "    ```julia \n",
    "    A = []\n",
    "    for x in 1:10\n",
    "        push!(A, x)\n",
    "    end\n",
    "    ```\n",
    "  - You can use nested `for` loops to check all the triples to look for a set. There are more efficient algorithms, but that's OK."
   ]
  },
  {
   "cell_type": "code",
   "execution_count": null,
   "metadata": {},
   "outputs": [],
   "source": []
  },
  {
   "cell_type": "code",
   "execution_count": null,
   "metadata": {},
   "outputs": [],
   "source": [
    "using Random\n",
    "\n",
    "function set_deck() \n",
    "    \"\"\"\n",
    "    generate a new deck and shuffle it\n",
    "    \"\"\"\n",
    "    deck = []\n",
    "    for num in 1:3\n",
    "        for col in 1:3\n",
    "            for shape in 1:3\n",
    "                for shade in 1:3\n",
    "                    card = (num,col,shape,shade)\n",
    "                    push!(deck,card) \n",
    "                end\n",
    "            end\n",
    "        end\n",
    "    end\n",
    "    shuffle_deck = []\n",
    "    new_ind = randperm(length(deck))\n",
    "    for item in new_ind\n",
    "        push!(shuffle_deck,deck[item])\n",
    "    end\n",
    "    return shuffle_deck\n",
    "end\n",
    "\n",
    "\n",
    "function set_table(deck)\n",
    "    \"\"\"\n",
    "    get 12 cards from the shuffled deck\n",
    "    \"\"\"\n",
    "    table = deck[1:12]\n",
    "    return table\n",
    "end\n",
    "\n",
    "\n",
    "function add_cards(table, deck)\n",
    "    \"\"\"\n",
    "    add three cards to table\n",
    "    \"\"\"\n",
    "    for i in 1:3\n",
    "        table = push!(table,deck[i])\n",
    "    end\n",
    "    \"\"\"\n",
    "    print(\"\\n table\\n\")\n",
    "    print(table)\n",
    "    print(\"\\ntable end\\n\")\n",
    "    \"\"\"\n",
    "    return table\n",
    "end\n",
    "    \n",
    "function renew_deck(deck,n)\n",
    "    \"\"\"\n",
    "    remove n cards from the shuffled deck, n = 12 or 3\n",
    "    \n",
    "    \"\"\"\n",
    "    if length(deck) == 3 \n",
    "        return []\n",
    "    else\n",
    "        deck = deck[n+1:end]\n",
    "        return deck\n",
    "    end\n",
    "end\n",
    "\n",
    "function is_set(three_cards)\n",
    "    \"\"\"\n",
    "    check if an array of three cards could form a set or not\n",
    "    \"\"\"\n",
    "    \"\"\"\n",
    "    print(\"\\nthree cards:\\n\")\n",
    "    print(three_cards)\n",
    "    print(\"\\n\")\n",
    "    \"\"\"\n",
    "    for i in 1:4\n",
    "        list = [three_cards[1][i],three_cards[2][i],three_cards[3][i]]\n",
    "        if length(unique(list)) == 2\n",
    "            \"\"\"\n",
    "            print(\"is not a set\\n\")\n",
    "            \"\"\"\n",
    "            return false\n",
    "        end\n",
    "    end\n",
    "    \"\"\"\n",
    "    print(\"\\n******is a set*******\\n\")\n",
    "    \"\"\"\n",
    "    return true\n",
    "end\n",
    "    \n",
    "function find_all_sets(table)\n",
    "    set_ind = []\n",
    "    for i in 1:length(table)-2\n",
    "        for j in i+1:length(table)-1\n",
    "            for k in j+1:length(table)\n",
    "                three_cards = [table[i],table[j],table[k]]\n",
    "                if is_set(three_cards)\n",
    "                    push!(set_ind,(i,j,k))\n",
    "                end\n",
    "            end\n",
    "        end\n",
    "    end\n",
    "    return set_ind\n",
    "end\n",
    "\n",
    "function game()\n",
    "    deck = set_deck()\n",
    "    \"\"\"\n",
    "    print(\"\\n shuffle deck\\n\")\n",
    "    print(deck)\n",
    "    print(\"\\ndeck end\\n\")\n",
    "    \"\"\"\n",
    "    table = set_table(deck)\n",
    "    deck = renew_deck(deck,12)\n",
    "    \"\"\"\n",
    "    print(\"\\n new deck\\n\")\n",
    "    print(deck)\n",
    "    print(\"\\ndeck end\\n\")\n",
    "    print(\"\\ntable\\n\")\n",
    "    print(table)\n",
    "    print(\"\\ntable end\\n\")\n",
    "    \"\"\"\n",
    "    \n",
    "\n",
    "    \n",
    "    while length(deck) !== 0\n",
    "        set_ind = find_all_sets(table)\n",
    "        \"\"\"\n",
    "        print(\"\\nset_ind******\")\n",
    "        print(set_ind)\n",
    "        print(\"*********\\nset_ind_end\\n\")\n",
    "        \"\"\"\n",
    "        if length(set_ind) == 0\n",
    "            table = add_cards(table,deck)\n",
    "            deck = renew_deck(deck,3)\n",
    "    \n",
    "        else\n",
    "            ind = rand(1:length(set_ind))\n",
    "            table = table[setdiff(1:end,set_ind[ind])]\n",
    "            if length(table)<12\n",
    "                table = add_cards(table,deck)\n",
    "                deck = renew_deck(deck,3)\n",
    "            end\n",
    "        \n",
    "        end\n",
    "        if length(table) == 18\n",
    "            return true\n",
    "        end\n",
    "    end\n",
    "    if length(table) == 0\n",
    "        return true\n",
    "    end\n",
    "    return false\n",
    "    \n",
    "end\n",
    "\n",
    "count = 0\n",
    "for i in 1:10000\n",
    "    if game()\n",
    "        count = count + 1\n",
    "    end\n",
    "end\n",
    "count/10000\n"
   ]
  },
  {
   "cell_type": "markdown",
   "metadata": {},
   "source": [
    "## Problem 6   \n",
    "Show that if $\\{\\mathbf{v}_1, \\ldots, \\mathbf{v}_n\\}$ is linearly\n",
    "independent and\n",
    "$\\{\\mathbf{v}_1 + \\mathbf{w}, \\mathbf{v}_2 \\ldots, \\mathbf{v}_n\\}$ is\n",
    "linearly dependent, then $\\mathbf{w}$ is in the span of\n",
    "$\\{\\mathbf{v}_1, \\ldots, \\mathbf{v}_n\\}$."
   ]
  },
  {
   "cell_type": "markdown",
   "metadata": {},
   "source": [
    "*(DONE)Solution:*   \n",
    "$\\{\\mathbf{v}_1, \\ldots, \\mathbf{v}_n\\}$ is l.i.,   \n",
    "then we have $\\{\\mathbf{v}_2, \\ldots, \\mathbf{v}_n\\}$ is l.i. as well;   \n",
    "As $\\{\\mathbf{v}_1 + \\mathbf{w}, \\ldots, \\mathbf{v}_n\\}$ is l.d., and $\\{\\mathbf{v}_2, \\ldots, \\mathbf{v}_n\\}$ is l.i.,   \n",
    "then $\\mathbf{v}_1 + \\mathbf{w}$ is a linear combination of subsets of $\\{\\mathbf{v}_2, \\ldots, \\mathbf{v}_n\\}$,   \n",
    "so $\\mathbf{v}_1 + \\mathbf{w} = \\mathbf{c}_2\\mathbf{v}_2+\\ldots+\\mathbf{c}_n\\mathbf{v}_n$,   \n",
    "$ \\mathbf{w} = -\\mathbf{v}_1 + \\mathbf{c}_2\\mathbf{v}_2+\\ldots+\\mathbf{c}_n\\mathbf{v}_n $,   \n",
    "so $\\mathbf{w}$ is a linear combination of $\\{\\mathbf{v}_1, \\ldots, \\mathbf{v}_n\\}$,  \n",
    "thus $\\mathbf{w}$ is the span of $\\{\\mathbf{v}_1, \\ldots, \\mathbf{v}_n\\}$,   \n",
    "\\newpage"
   ]
  },
  {
   "cell_type": "markdown",
   "metadata": {},
   "source": [
    "## Problem 7\n",
    "\n",
    "**Show that if $A$ is a symmetric matrix, then \n",
    "$$\n",
    "A = \\lambda_1 \\mathbf{u}_1 \\mathbf{u}_1' + \\cdots + \\lambda_1 \\mathbf{u}_n \\mathbf{u}_n'\n",
    "$$\n",
    "where $\\mathbf{u}_1, \\ldots, \\mathbf{u}_n$ is a list of linearly independent unit eigenvectors of $A$ and $\\lambda_1, \\ldots, \\lambda_n$ are the corresponding eigenvalues. Does this formula hold if $A$ is diagonalizable but not symmetric?**\n",
    "\n",
    "Hints: start with the orthogonal diagonalization of $A$ and use block multiplication."
   ]
  },
  {
   "cell_type": "markdown",
   "metadata": {},
   "source": [
    "## Problem 8   \n",
    "**Use the result of the previous exercise to show that a quadratic function $f:\\mathbb{R}^n \\to \\mathbb{R}$ has a local minimum at a critical point where the eigenvalues of the Hessian of $f$ are all positive.**\n"
   ]
  },
  {
   "cell_type": "markdown",
   "metadata": {},
   "source": [
    "## Problem 9\n",
    "**Suppose that $A = U \\Sigma V'$ where $\\Sigma$ is diagonal and $U$ and\n",
    "$V$ are orthogonal matrices. Show that the columns of $U$ are\n",
    "eigenvectors of $AA'$ and that the columns of $V$ are eigenvectors of\n",
    "$A'A$.**\n",
    "\n",
    "Hint: substitute $A = U \\Sigma V'$ into the expressions $AA'$ and $A'A$."
   ]
  },
  {
   "cell_type": "markdown",
   "metadata": {},
   "source": [
    "## Problem 10 \n",
    "The singular value decomposition can be used to identify the primary\n",
    "axes in a ellipsoidal point cloud. Run the following block to generate\n",
    "and plot a set of 100 points."
   ]
  },
  {
   "cell_type": "code",
   "execution_count": null,
   "metadata": {},
   "outputs": [],
   "source": [
    "using LinearAlgebra \n",
    "using Plots \n",
    "using Random; Random.seed!(1234) # to make sure we get the same points\n",
    "numpoints = 100 \n",
    "T = [1 2; 0 1]\n",
    "P = T * randn(2, numpoints)\n",
    "scatter(P[1,:], P[2,:], aspect_ratio=:equal, legend=false)\n"
   ]
  },
  {
   "cell_type": "markdown",
   "metadata": {},
   "source": [
    "Use Julia to compute the singular value decomposition $U \\Sigma V'$ of\n",
    "$P$, and show visually that the columns of $U$ run along the axes of the\n",
    "ellipse that fits the point cloud (the one shown in the figure).\n",
    "\n",
    "Hint: `plot!([(a,b),(c,d)])` adds a line segment from the point $(a,b)$ to the point $(c,d)$ to\n",
    "the current plot. You’ll want to plot line segments representing both of\n",
    "the columns of $V$."
   ]
  },
  {
   "cell_type": "code",
   "execution_count": null,
   "metadata": {},
   "outputs": [],
   "source": [
    "U, Σ, V = svd(P)"
   ]
  },
  {
   "cell_type": "code",
   "execution_count": null,
   "metadata": {},
   "outputs": [],
   "source": []
  }
 ],
 "metadata": {
  "jupytext": {
   "formats": "ipynb,Rmd"
  },
  "kernelspec": {
   "display_name": "Julia 1.2.0",
   "language": "julia",
   "name": "julia-1.2"
  },
  "language_info": {
   "file_extension": ".jl",
   "mimetype": "application/julia",
   "name": "julia",
   "version": "1.2.0"
  }
 },
 "nbformat": 4,
 "nbformat_minor": 4
}
